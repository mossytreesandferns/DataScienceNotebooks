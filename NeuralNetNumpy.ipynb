{
  "nbformat": 4,
  "nbformat_minor": 0,
  "metadata": {
    "colab": {
      "name": "NeuralNetNumpy.ipynb",
      "provenance": [],
      "collapsed_sections": []
    },
    "kernelspec": {
      "name": "python3",
      "display_name": "Python 3"
    }
  },
  "cells": [
    {
      "cell_type": "code",
      "metadata": {
        "id": "GopkQHVaTDqC",
        "colab_type": "code",
        "colab": {
          "base_uri": "https://localhost:8080/",
          "height": 54
        },
        "outputId": "1d4288b7-4c58-499f-9ee7-21fd47cf5209"
      },
      "source": [
        "#Mount my drive- run the code, go to the link, accept.\n",
        "from google.colab import drive\n",
        "drive.mount('/content/gdrive')"
      ],
      "execution_count": 75,
      "outputs": [
        {
          "output_type": "stream",
          "text": [
            "Drive already mounted at /content/gdrive; to attempt to forcibly remount, call drive.mount(\"/content/gdrive\", force_remount=True).\n"
          ],
          "name": "stdout"
        }
      ]
    },
    {
      "cell_type": "code",
      "metadata": {
        "id": "zcoaEbHFTLNw",
        "colab_type": "code",
        "colab": {
          "base_uri": "https://localhost:8080/",
          "height": 34
        },
        "outputId": "9f8475b6-281e-43db-a481-111162d186b7"
      },
      "source": [
        "import os\n",
        "os.chdir(\"/content/gdrive/My Drive/OwnJupyterNotebooks/\")\n",
        "os.getcwd()"
      ],
      "execution_count": 76,
      "outputs": [
        {
          "output_type": "execute_result",
          "data": {
            "text/plain": [
              "'/content/gdrive/My Drive/OwnJupyterNotebooks'"
            ]
          },
          "metadata": {
            "tags": []
          },
          "execution_count": 76
        }
      ]
    },
    {
      "cell_type": "markdown",
      "metadata": {
        "id": "lOXXAEF_TVZI",
        "colab_type": "text"
      },
      "source": [
        "## Neural Net in Numpy From Scratch\n"
      ]
    },
    {
      "cell_type": "code",
      "metadata": {
        "id": "htvecwAATT-n",
        "colab_type": "code",
        "colab": {}
      },
      "source": [
        "import numpy as np\n",
        "%matplotlib inline\n",
        "import matplotlib.pyplot as plt"
      ],
      "execution_count": 0,
      "outputs": []
    },
    {
      "cell_type": "code",
      "metadata": {
        "id": "JG1rmZl2VFej",
        "colab_type": "code",
        "colab": {}
      },
      "source": [
        "# Define sigmoid function\n",
        "def sigmoid(x):\n",
        "  return 1/(1+np.exp(-x))"
      ],
      "execution_count": 0,
      "outputs": []
    },
    {
      "cell_type": "code",
      "metadata": {
        "id": "q5bnUcNMTYqb",
        "colab_type": "code",
        "colab": {}
      },
      "source": [
        "# define neural net --> sum of inputs, weights, and biases\n",
        "# a=input, w=weight, b=bias\n",
        "def neural_net(a1,a2,w1,w2,b):\n",
        "  sum_vectors = a1*w1 + a2*w2 + b\n",
        "  return sigmoid(sum_vectors)"
      ],
      "execution_count": 0,
      "outputs": []
    },
    {
      "cell_type": "code",
      "metadata": {
        "id": "Amb_HNFzVSdd",
        "colab_type": "code",
        "colab": {
          "base_uri": "https://localhost:8080/",
          "height": 34
        },
        "outputId": "af5223a5-2219-4837-b773-b255fa787065"
      },
      "source": [
        "# Create random weights\n",
        "w1 = np.random.randn()\n",
        "w2 = np.random.randn()\n",
        "b = np.random.randn()\n",
        "print(w1, w2, b)"
      ],
      "execution_count": 80,
      "outputs": [
        {
          "output_type": "stream",
          "text": [
            "0.006210459307389378 1.4693508706342011 0.8949148890471177\n"
          ],
          "name": "stdout"
        }
      ]
    },
    {
      "cell_type": "code",
      "metadata": {
        "id": "SbtfAXsfW4xy",
        "colab_type": "code",
        "colab": {}
      },
      "source": [
        "# Establish flower data- length/width ratio corresponds to flower color\n",
        "# Labels should be divided close to 0 and 1\n",
        "lengths = [1.5, 2.5, 2.2, 1.9, 2.3, 3.2, 3.0, 2, 1.7, 2.1]\n",
        "widths =  [3,   5,   4,   3,   5,   6,   4.2, 4, 4.1, 3.4]\n",
        "labels = ['purple', 'blue', 'purple', 'purple', 'blue', 'blue', 'purple', 'blue', 'blue', 'purple' ]\n"
      ],
      "execution_count": 0,
      "outputs": []
    },
    {
      "cell_type": "code",
      "metadata": {
        "id": "ag00mDS1Y57Q",
        "colab_type": "code",
        "colab": {
          "base_uri": "https://localhost:8080/",
          "height": 102
        },
        "outputId": "9163c811-d901-412d-c526-d63e4d4d76a9"
      },
      "source": [
        "print(neural_net(1.4, 2.5, w1, w2, b))\n",
        "print(neural_net(2.5, 5, w1, w2, b))\n",
        "print(neural_net(2.2, 4, w1, w2, b))\n",
        "print(neural_net(1.9, 3, w1, w2, b))\n",
        "print(neural_net(2.3, 5, w1, w2, b))"
      ],
      "execution_count": 82,
      "outputs": [
        {
          "output_type": "stream",
          "text": [
            "0.9898188775459718\n",
            "0.9997406818164373\n",
            "0.9988717756381622\n",
            "0.9951056497068653\n",
            "0.9997403596029935\n"
          ],
          "name": "stdout"
        }
      ]
    },
    {
      "cell_type": "markdown",
      "metadata": {
        "id": "EkydtIWbZYE6",
        "colab_type": "text"
      },
      "source": [
        "### The predictions are not sorting correctly- our weights are random and have no meaning. A cost function helps the model modify output so that its preditions can be closer to the labels."
      ]
    },
    {
      "cell_type": "markdown",
      "metadata": {
        "id": "TviGL4ZKajXY",
        "colab_type": "text"
      },
      "source": [
        "#### The Squared Error cost function takes the difference between the label and the prediction and squares it.  A Cost function for linear regression adds sums the costs of individual data points.  The Mean Squared Error sums these and divides by the number of data points.  The slope (derivative) of the cost function goes to zero as we get closer to a mimimum cost.  As the slope decreases in magnitude, smaller and smaller increments are needed to get to the local mimimum.  Modulating increment size as the derivative approaches zero is key to avoid overreaching the minimum. Subtract a fraction of the slope. <br>\n",
        "If cost function is c(b) = (b - w)^2, where b is the output of the network and w is the label in the data, a new b = b - (fraction of slope)* (dc/db c(b))"
      ]
    },
    {
      "cell_type": "markdown",
      "metadata": {
        "id": "QoklDrpihmnF",
        "colab_type": "text"
      },
      "source": [
        "### The Cost Function"
      ]
    },
    {
      "cell_type": "code",
      "metadata": {
        "id": "uMmzsuANZW33",
        "colab_type": "code",
        "colab": {}
      },
      "source": [
        " # Define Cost Function\n",
        "def cost(output, label):\n",
        "  c = (output-label)**2\n",
        "  return c"
      ],
      "execution_count": 0,
      "outputs": []
    },
    {
      "cell_type": "code",
      "metadata": {
        "id": "fjgUjivvh29R",
        "colab_type": "code",
        "colab": {}
      },
      "source": [
        "# Define Slope Function\n",
        "def derivative(output, label):\n",
        "  slope = 2*(output - label)\n",
        "  return slope"
      ],
      "execution_count": 0,
      "outputs": []
    },
    {
      "cell_type": "code",
      "metadata": {
        "id": "qTYLUpQ9o4Qr",
        "colab_type": "code",
        "colab": {
          "base_uri": "https://localhost:8080/",
          "height": 34
        },
        "outputId": "e01a4edd-88c8-4d0f-c71a-0e47ceac6260"
      },
      "source": [
        "print(derivative(8,5))"
      ],
      "execution_count": 30,
      "outputs": [
        {
          "output_type": "stream",
          "text": [
            "6\n"
          ],
          "name": "stdout"
        }
      ]
    },
    {
      "cell_type": "code",
      "metadata": {
        "id": "Hd7yEbHJtN1t",
        "colab_type": "code",
        "colab": {}
      },
      "source": [
        "def slope(b):\n",
        "  return 2*(b-4)"
      ],
      "execution_count": 0,
      "outputs": []
    },
    {
      "cell_type": "code",
      "metadata": {
        "id": "YU68cfXgtlJw",
        "colab_type": "code",
        "colab": {}
      },
      "source": [
        "b=8"
      ],
      "execution_count": 0,
      "outputs": []
    },
    {
      "cell_type": "code",
      "metadata": {
        "id": "aQUJp14WrHOP",
        "colab_type": "code",
        "colab": {
          "base_uri": "https://localhost:8080/",
          "height": 34
        },
        "outputId": "a7a95fa7-58b0-45e7-e451-d1e03b6d6906"
      },
      "source": [
        "# press CTRL + ENTER to watch the value of b go to zero\n",
        "b = b - (.1)*slope(b)\n",
        "print(b)"
      ],
      "execution_count": 64,
      "outputs": [
        {
          "output_type": "stream",
          "text": [
            "4.5368709119999995\n"
          ],
          "name": "stdout"
        }
      ]
    },
    {
      "cell_type": "code",
      "metadata": {
        "id": "a9WJgNZniaSb",
        "colab_type": "code",
        "colab": {}
      },
      "source": [
        "# Attempt at recursive cost function\n",
        "# # Recursive Incremental output, slope has to \\\n",
        "# import math\n",
        "# def rec_increment(starting_output, slope, fraction): # f = Chosen fraction of slope\n",
        "#   increment_output = starting_output - (fraction)*(slope)\n",
        "#   if increment_output >= 0 and increment_output <= .05:\n",
        "#     return increment_output\n",
        "#   else:\n",
        "#     starting_output = increment_output\n",
        "#     return rec_increment(starting_output, slope, fraction)\n",
        "  "
      ],
      "execution_count": 0,
      "outputs": []
    },
    {
      "cell_type": "code",
      "metadata": {
        "id": "UCCpcLgCmKFk",
        "colab_type": "code",
        "colab": {}
      },
      "source": [
        "#print(rec_increment(8, 5.2, .1))"
      ],
      "execution_count": 0,
      "outputs": []
    },
    {
      "cell_type": "code",
      "metadata": {
        "id": "AdAMD7EmmXxu",
        "colab_type": "code",
        "colab": {
          "base_uri": "https://localhost:8080/",
          "height": 867
        },
        "outputId": "5dd9f8f1-e48f-4c6e-a8e1-03ce819ebebd"
      },
      "source": [
        "for i in range(50):\n",
        "  b = b - (.1)*slope(b)\n",
        "  print(b)\n",
        "  "
      ],
      "execution_count": 69,
      "outputs": [
        {
          "output_type": "stream",
          "text": [
            "4.429496729599999\n",
            "4.34359738368\n",
            "4.274877906944\n",
            "4.2199023255552\n",
            "4.17592186044416\n",
            "4.140737488355328\n",
            "4.1125899906842625\n",
            "4.09007199254741\n",
            "4.072057594037927\n",
            "4.057646075230342\n",
            "4.046116860184274\n",
            "4.0368934881474186\n",
            "4.0295147905179345\n",
            "4.023611832414348\n",
            "4.018889465931478\n",
            "4.015111572745182\n",
            "4.012089258196146\n",
            "4.009671406556917\n",
            "4.007737125245534\n",
            "4.006189700196427\n",
            "4.004951760157142\n",
            "4.003961408125713\n",
            "4.003169126500571\n",
            "4.0025353012004565\n",
            "4.002028240960366\n",
            "4.0016225927682925\n",
            "4.001298074214634\n",
            "4.001038459371707\n",
            "4.000830767497366\n",
            "4.000664613997893\n",
            "4.000531691198314\n",
            "4.0004253529586515\n",
            "4.000340282366921\n",
            "4.0002722258935375\n",
            "4.00021778071483\n",
            "4.000174224571864\n",
            "4.000139379657491\n",
            "4.000111503725993\n",
            "4.000089202980794\n",
            "4.000071362384635\n",
            "4.000057089907708\n",
            "4.000045671926166\n",
            "4.000036537540933\n",
            "4.000029230032746\n",
            "4.000023384026197\n",
            "4.000018707220958\n",
            "4.000014965776766\n",
            "4.000011972621413\n",
            "4.0000095780971305\n",
            "4.000007662477705\n"
          ],
          "name": "stdout"
        }
      ]
    },
    {
      "cell_type": "code",
      "metadata": {
        "id": "mQ8aFp0pvc_Q",
        "colab_type": "code",
        "colab": {}
      },
      "source": [
        "# Try with a negative number\n",
        "b = -6"
      ],
      "execution_count": 0,
      "outputs": []
    },
    {
      "cell_type": "code",
      "metadata": {
        "id": "TJrXowEKujvk",
        "colab_type": "code",
        "colab": {
          "base_uri": "https://localhost:8080/",
          "height": 527
        },
        "outputId": "f14c9857-9d24-447b-95a8-9c844cab43fa"
      },
      "source": [
        "for i in range(30):\n",
        "  b = b - (.1)*slope(b)\n",
        "  print(b)"
      ],
      "execution_count": 74,
      "outputs": [
        {
          "output_type": "stream",
          "text": [
            "-4.0\n",
            "-2.4\n",
            "-1.1199999999999997\n",
            "-0.09599999999999986\n",
            "0.7232000000000002\n",
            "1.3785600000000002\n",
            "1.902848\n",
            "2.3222784\n",
            "2.65782272\n",
            "2.926258176\n",
            "3.1410065408000003\n",
            "3.31280523264\n",
            "3.450244186112\n",
            "3.5601953488896\n",
            "3.64815627911168\n",
            "3.7185250232893443\n",
            "3.7748200186314755\n",
            "3.8198560149051803\n",
            "3.8558848119241445\n",
            "3.8847078495393155\n",
            "3.9077662796314523\n",
            "3.926213023705162\n",
            "3.9409704189641297\n",
            "3.9527763351713037\n",
            "3.962221068137043\n",
            "3.9697768545096346\n",
            "3.9758214836077075\n",
            "3.980657186886166\n",
            "3.984525749508933\n",
            "3.9876205996071463\n"
          ],
          "name": "stdout"
        }
      ]
    },
    {
      "cell_type": "markdown",
      "metadata": {
        "id": "vPPh-yES0Vgg",
        "colab_type": "text"
      },
      "source": [
        "### With cost functions of two input variables or more, take the partial derivative of each input variable to get local mimina.\n",
        "Create cost functions for each input variable and using a fraction of the slope as with a single input variable. Subtract the gradient."
      ]
    },
    {
      "cell_type": "markdown",
      "metadata": {
        "id": "Cs-t_atVO53w",
        "colab_type": "text"
      },
      "source": [
        "### Correcting Model and Predicting Label for an unknown value"
      ]
    },
    {
      "cell_type": "code",
      "metadata": {
        "id": "C3XI0G0rve_v",
        "colab_type": "code",
        "colab": {}
      },
      "source": [
        "# Recall data and add a mystery value\n",
        "lengths = [1.5, 2.5, 2.2, 1.9, 2.3, 3.2, 3.0, 2, 1.7, 2.1]\n",
        "widths =  [3,   5,   4,   3,   5,   6,   4.2, 4, 4.1, 3.4]\n",
        "labels = ['purple', 'blue', 'purple', 'purple', 'blue', 'blue', 'purple', 'blue', 'blue', 'purple']\n"
      ],
      "execution_count": 0,
      "outputs": []
    },
    {
      "cell_type": "code",
      "metadata": {
        "id": "sFEjy2n8L2Nv",
        "colab_type": "code",
        "colab": {
          "base_uri": "https://localhost:8080/",
          "height": 34
        },
        "outputId": "17d9404a-48ef-4736-c2bf-ba39dd80d7bb"
      },
      "source": [
        "# Change values in labels\n",
        "labels = [0 if item =='purple' else 1 for item in labels]\n",
        "print(labels)"
      ],
      "execution_count": 131,
      "outputs": [
        {
          "output_type": "stream",
          "text": [
            "[0, 1, 0, 0, 1, 1, 0, 1, 1, 0]\n"
          ],
          "name": "stdout"
        }
      ]
    },
    {
      "cell_type": "code",
      "metadata": {
        "id": "IsI8wbOQK3h4",
        "colab_type": "code",
        "colab": {
          "base_uri": "https://localhost:8080/",
          "height": 187
        },
        "outputId": "29a79a20-4adf-44a2-b6f6-9895e9458ccd"
      },
      "source": [
        "data = []\n",
        "for i in range(len(lengths)):\n",
        "  data.append([lengths[i], widths[i], labels[i]])\n",
        "data  "
      ],
      "execution_count": 133,
      "outputs": [
        {
          "output_type": "execute_result",
          "data": {
            "text/plain": [
              "[[1.5, 3, 0],\n",
              " [2.5, 5, 1],\n",
              " [2.2, 4, 0],\n",
              " [1.9, 3, 0],\n",
              " [2.3, 5, 1],\n",
              " [3.2, 6, 1],\n",
              " [3.0, 4.2, 0],\n",
              " [2, 4, 1],\n",
              " [1.7, 4.1, 1],\n",
              " [2.1, 3.4, 0]]"
            ]
          },
          "metadata": {
            "tags": []
          },
          "execution_count": 133
        }
      ]
    },
    {
      "cell_type": "code",
      "metadata": {
        "id": "rVV7w_0JLccO",
        "colab_type": "code",
        "colab": {}
      },
      "source": [
        "# Create new data point for prediction later\n",
        "mystery_flower = [2, 3.2, '?']"
      ],
      "execution_count": 0,
      "outputs": []
    },
    {
      "cell_type": "code",
      "metadata": {
        "id": "IPpX1qM0Nuvb",
        "colab_type": "code",
        "colab": {
          "base_uri": "https://localhost:8080/",
          "height": 34
        },
        "outputId": "7931e54b-464a-4f8b-e98c-cfdff51db603"
      },
      "source": [
        "# Recall weight generation\n",
        "w1 = np.random.randn()\n",
        "w2 = np.random.randn()\n",
        "b = np.random.randn()\n",
        "print(w1, w2, b)"
      ],
      "execution_count": 99,
      "outputs": [
        {
          "output_type": "stream",
          "text": [
            "-0.903399359021329 -0.6385886534805114 0.5262900963297914\n"
          ],
          "name": "stdout"
        }
      ]
    },
    {
      "cell_type": "code",
      "metadata": {
        "id": "3CKUGnLxPHym",
        "colab_type": "code",
        "colab": {}
      },
      "source": [
        "# Redefine sigmoid function and define derivative of sigmoid\n",
        "def sigmoid(x):\n",
        "  return 1/(1+np.exp(-x))\n",
        "\n",
        "def sigmoid_ddx(x):\n",
        "  return sigmoid(x)*(1 - sigmoid(x))"
      ],
      "execution_count": 0,
      "outputs": []
    },
    {
      "cell_type": "code",
      "metadata": {
        "id": "NB3K8-4zPZb3",
        "colab_type": "code",
        "colab": {
          "base_uri": "https://localhost:8080/",
          "height": 425
        },
        "outputId": "c88ac82b-54cb-409c-a129-ec6d7a410b42"
      },
      "source": [
        "# Testing Sigmoid\n",
        "test_data = np.linspace(-30,30,30)\n",
        "output = sigmoid(test_data)\n",
        "d_output = sigmoid_ddx(test_data)\n",
        "test_data, output, d_output"
      ],
      "execution_count": 124,
      "outputs": [
        {
          "output_type": "execute_result",
          "data": {
            "text/plain": [
              "(array([-30.        , -27.93103448, -25.86206897, -23.79310345,\n",
              "        -21.72413793, -19.65517241, -17.5862069 , -15.51724138,\n",
              "        -13.44827586, -11.37931034,  -9.31034483,  -7.24137931,\n",
              "         -5.17241379,  -3.10344828,  -1.03448276,   1.03448276,\n",
              "          3.10344828,   5.17241379,   7.24137931,   9.31034483,\n",
              "         11.37931034,  13.44827586,  15.51724138,  17.5862069 ,\n",
              "         19.65517241,  21.72413793,  23.79310345,  25.86206897,\n",
              "         27.93103448,  30.        ]),\n",
              " array([9.35762297e-14, 7.40808318e-13, 5.86470481e-12, 4.64286937e-11,\n",
              "        3.67558755e-10, 2.90982639e-09, 2.30360163e-08, 1.82367572e-07,\n",
              "        1.44373463e-06, 1.14293977e-05, 9.04751522e-05, 7.15810295e-04,\n",
              "        5.63888663e-03, 4.29652408e-02, 2.62215951e-01, 7.37784049e-01,\n",
              "        9.57034759e-01, 9.94361113e-01, 9.99284190e-01, 9.99909525e-01,\n",
              "        9.99988571e-01, 9.99998556e-01, 9.99999818e-01, 9.99999977e-01,\n",
              "        9.99999997e-01, 1.00000000e+00, 1.00000000e+00, 1.00000000e+00,\n",
              "        1.00000000e+00, 1.00000000e+00]),\n",
              " array([9.35762297e-14, 7.40808318e-13, 5.86470481e-12, 4.64286937e-11,\n",
              "        3.67558755e-10, 2.90982638e-09, 2.30360158e-08, 1.82367538e-07,\n",
              "        1.44373255e-06, 1.14292671e-05, 9.04669664e-05, 7.15297911e-04,\n",
              "        5.60708959e-03, 4.11192289e-02, 1.93458746e-01, 1.93458746e-01,\n",
              "        4.11192289e-02, 5.60708959e-03, 7.15297911e-04, 9.04669664e-05,\n",
              "        1.14292671e-05, 1.44373255e-06, 1.82367538e-07, 2.30360158e-08,\n",
              "        2.90982637e-09, 3.67558650e-10, 4.64286387e-11, 5.86464211e-12,\n",
              "        7.40740802e-13, 9.34807787e-14]))"
            ]
          },
          "metadata": {
            "tags": []
          },
          "execution_count": 124
        }
      ]
    },
    {
      "cell_type": "code",
      "metadata": {
        "id": "8pgcPng3Pu-h",
        "colab_type": "code",
        "colab": {
          "base_uri": "https://localhost:8080/",
          "height": 286
        },
        "outputId": "b96a9783-8293-4e0f-e255-5369439e14e4"
      },
      "source": [
        "plt.plot(test_data, output)\n",
        "plt.plot(test_data, d_output, c = 'r')"
      ],
      "execution_count": 125,
      "outputs": [
        {
          "output_type": "execute_result",
          "data": {
            "text/plain": [
              "[<matplotlib.lines.Line2D at 0x7efce0b3b898>]"
            ]
          },
          "metadata": {
            "tags": []
          },
          "execution_count": 125
        },
        {
          "output_type": "display_data",
          "data": {
            "image/png": "[encoded data removed]",
            "text/plain": [
              "<Figure size 432x288 with 1 Axes>"
            ]
          },
          "metadata": {
            "tags": []
          }
        }
      ]
    },
    {
      "cell_type": "code",
      "metadata": {
        "id": "Wl1m6cwkQ-iH",
        "colab_type": "code",
        "colab": {
          "base_uri": "https://localhost:8080/",
          "height": 102
        },
        "outputId": "feea626b-b91c-4f96-be37-1c6ade24dad7"
      },
      "source": [
        "test_data = np.linspace(-8,8,10)\n",
        "output = sigmoid(test_data)\n",
        "d_output = sigmoid_ddx(test_data)\n",
        "test_data, output"
      ],
      "execution_count": 126,
      "outputs": [
        {
          "output_type": "execute_result",
          "data": {
            "text/plain": [
              "(array([-8.        , -6.22222222, -4.44444444, -2.66666667, -0.88888889,\n",
              "         0.88888889,  2.66666667,  4.44444444,  6.22222222,  8.        ]),\n",
              " array([3.35350130e-04, 1.98089784e-03, 1.16073164e-02, 6.49691691e-02,\n",
              "        2.91339175e-01, 7.08660825e-01, 9.35030831e-01, 9.88392684e-01,\n",
              "        9.98019102e-01, 9.99664650e-01]))"
            ]
          },
          "metadata": {
            "tags": []
          },
          "execution_count": 126
        }
      ]
    },
    {
      "cell_type": "code",
      "metadata": {
        "id": "69opDeC8Q-lR",
        "colab_type": "code",
        "colab": {
          "base_uri": "https://localhost:8080/",
          "height": 286
        },
        "outputId": "f18d64c9-6851-4899-9867-920ad2acf959"
      },
      "source": [
        "plt.plot(test_data, output)\n",
        "plt.plot(test_data, d_output, c = 'r')"
      ],
      "execution_count": 127,
      "outputs": [
        {
          "output_type": "execute_result",
          "data": {
            "text/plain": [
              "[<matplotlib.lines.Line2D at 0x7efce0c4d240>]"
            ]
          },
          "metadata": {
            "tags": []
          },
          "execution_count": 127
        },
        {
          "output_type": "display_data",
          "data": {
            "image/png": "[encoded data removed]",
            "text/plain": [
              "<Figure size 432x288 with 1 Axes>"
            ]
          },
          "metadata": {
            "tags": []
          }
        }
      ]
    },
    {
      "cell_type": "markdown",
      "metadata": {
        "id": "6xCNYjVbTeen",
        "colab_type": "text"
      },
      "source": [
        "#### Slope decreases as growth of sigmoid slows"
      ]
    },
    {
      "cell_type": "code",
      "metadata": {
        "id": "ZcgcdnjRRN4n",
        "colab_type": "code",
        "colab": {
          "base_uri": "https://localhost:8080/",
          "height": 269
        },
        "outputId": "6fe3e927-610d-4e48-da80-4ff3cdfe0b62"
      },
      "source": [
        "# Scatterplot\n",
        "for i in range(len(data)):\n",
        "  point = data[i]\n",
        "  color = 'r'\n",
        "  if point[2] == 0:\n",
        "    color = 'b'\n",
        "  plt.scatter(point[0], point[1], c= color)  \n"
      ],
      "execution_count": 135,
      "outputs": [
        {
          "output_type": "display_data",
          "data": {
            "image/png": "[encoded data removed]",
            "text/plain": [
              "<Figure size 432x288 with 1 Axes>"
            ]
          },
          "metadata": {
            "tags": []
          }
        }
      ]
    },
    {
      "cell_type": "code",
      "metadata": {
        "id": "5l7yeFKupoNk",
        "colab_type": "code",
        "colab": {
          "base_uri": "https://localhost:8080/",
          "height": 269
        },
        "outputId": "7b44d164-b3f4-4f6b-9a9a-d50098cf6f4e"
      },
      "source": [
        "# Training Loop\n",
        "learning_rate = .2 #tinker with learning rate and until the cost plot shows a decreasing trend\n",
        "costs = []\n",
        "\n",
        "for i in range(5000):\n",
        "  rand_index = np.random.randint(len(data))\n",
        "  point = data[rand_index]\n",
        "  \n",
        "  z = point[0]*w1 + point[1]*w2 + b\n",
        "  prediction = sigmoid(z)\n",
        "  \n",
        "  target = point[2]\n",
        "  cost = np.square(prediction - target)\n",
        "  costs.append(cost)\n",
        " \n",
        "  dc_dpred = 2 *(prediction - target)\n",
        "  dpred_dz = sigmoid_ddx(z)\n",
        "  dz_dw1 = point[0]\n",
        "  dz_dw2 = point[1]\n",
        "  dz_db = 1\n",
        "  \n",
        "  dcost_dw1 = dc_dpred * dpred_dz * dz_dw1\n",
        "  dcost_dw2 = dc_dpred * dpred_dz * dz_dw2\n",
        "  dcost_db = dc_dpred * dpred_dz * dz_db\n",
        "  \n",
        "  w1 = w1 - learning_rate*dcost_dw1\n",
        "  w2 = w2 - learning_rate*dcost_dw2\n",
        "  b = b - learning_rate*dcost_db\n",
        "  \n",
        "  plt.plot(costs)"
      ],
      "execution_count": 154,
      "outputs": [
        {
          "output_type": "display_data",
          "data": {
            "image/png": "[encoded data removed]",
            "text/plain": [
              "<Figure size 432x288 with 1 Axes>"
            ]
          },
          "metadata": {
            "tags": []
          }
        }
      ]
    },
    {
      "cell_type": "code",
      "metadata": {
        "id": "QJwvngsupwdA",
        "colab_type": "code",
        "colab": {
          "base_uri": "https://localhost:8080/",
          "height": 34
        },
        "outputId": "01c9e72f-93c9-45db-8e93-4aeafe33fbad"
      },
      "source": [
        "z = mystery_flower[0]*w1 + mystery_flower[1]*w2 + b\n",
        "pred = sigmoid(z)\n",
        "print(pred)\n"
      ],
      "execution_count": 153,
      "outputs": [
        {
          "output_type": "stream",
          "text": [
            "4.5624591958959724e-05\n"
          ],
          "name": "stdout"
        }
      ]
    },
    {
      "cell_type": "markdown",
      "metadata": {
        "id": "PA7phkRIqRLx",
        "colab_type": "text"
      },
      "source": [
        "#### Yay, the mystery flower was labeled as predicted."
      ]
    },
    {
      "cell_type": "code",
      "metadata": {
        "id": "BhV5hXrQqFZ7",
        "colab_type": "code",
        "colab": {}
      },
      "source": [
        ""
      ],
      "execution_count": 0,
      "outputs": []
    }
  ]
}