{
  "nbformat": 4,
  "nbformat_minor": 0,
  "metadata": {
    "colab": {
      "name": "ChicagoCrimeAnalysisandPrediction2.ipynb",
      "version": "0.3.2",
      "provenance": [],
      "collapsed_sections": []
    },
    "kernelspec": {
      "name": "python3",
      "display_name": "Python 3"
    },
    "accelerator": "GPU"
  },
  "cells": [
    {
      "metadata": {
        "id": "JTID8PoRC6hx",
        "colab_type": "text"
      },
      "cell_type": "markdown",
      "source": [
        "# Chicago Crime Analysis and Prediction Part II: Prediction"
      ]
    },
    {
      "metadata": {
        "id": "eUh0Mm7AFn12",
        "colab_type": "code",
        "outputId": "f6acb5b0-e3a1-4634-ed01-27c6b03b780f",
        "colab": {
          "base_uri": "https://localhost:8080/",
          "height": 54
        }
      },
      "cell_type": "code",
      "source": [
        "#Mount my drive- run the code, go to the link, accept.\n",
        "from google.colab import drive\n",
        "drive.mount('/content/gdrive')"
      ],
      "execution_count": 0,
      "outputs": [
        {
          "output_type": "stream",
          "text": [
            "Drive already mounted at /content/gdrive; to attempt to forcibly remount, call drive.mount(\"/content/gdrive\", force_remount=True).\n"
          ],
          "name": "stdout"
        }
      ]
    },
    {
      "metadata": {
        "id": "kCRNCO_fFFLq",
        "colab_type": "code",
        "outputId": "863b3bfc-1a7f-4812-90d1-1b256cc99be1",
        "colab": {
          "base_uri": "https://localhost:8080/",
          "height": 34
        }
      },
      "cell_type": "code",
      "source": [
        "#Change working directory to make it easier to access the files\n",
        "import os\n",
        "os.chdir(\"/content/gdrive/My Drive/OwnJupyterNotebooks/\")\n",
        "os.getcwd()"
      ],
      "execution_count": 0,
      "outputs": [
        {
          "output_type": "execute_result",
          "data": {
            "text/plain": [
              "'/content/gdrive/My Drive/OwnJupyterNotebooks'"
            ]
          },
          "metadata": {
            "tags": []
          },
          "execution_count": 1
        }
      ]
    },
    {
      "metadata": {
        "id": "lmVbkfhYDVAn",
        "colab_type": "code",
        "colab": {}
      },
      "cell_type": "code",
      "source": [
        "import pandas as pd\n",
        "import numpy as np\n",
        "import matplotlib.pyplot as plt\n",
        "import seaborn as sns\n",
        "%matplotlib inline"
      ],
      "execution_count": 0,
      "outputs": []
    },
    {
      "metadata": {
        "id": "I4bxnAMGDhDI",
        "colab_type": "code",
        "outputId": "2e229d48-721c-40dd-e293-181af0be4c70",
        "colab": {
          "base_uri": "https://localhost:8080/",
          "height": 440
        }
      },
      "cell_type": "code",
      "source": [
        "datato2017 = pd.read_csv(\"/content/gdrive/My Drive/OwnJupyterNotebooks/Chicago_Crimes_2012_to_2017.csv\", error_bad_lines=False)\n",
        "datato2017.head()"
      ],
      "execution_count": 2,
      "outputs": [
        {
          "output_type": "execute_result",
          "data": {
            "text/html": [
              "<div>\n",
              "<style scoped>\n",
              "    .dataframe tbody tr th:only-of-type {\n",
              "        vertical-align: middle;\n",
              "    }\n",
              "\n",
              "    .dataframe tbody tr th {\n",
              "        vertical-align: top;\n",
              "    }\n",
              "\n",
              "    .dataframe thead th {\n",
              "        text-align: right;\n",
              "    }\n",
              "</style>\n",
              "<table border=\"1\" class=\"dataframe\">\n",
              "  <thead>\n",
              "    <tr style=\"text-align: right;\">\n",
              "      <th></th>\n",
              "      <th>Unnamed: 0</th>\n",
              "      <th>ID</th>\n",
              "      <th>Case Number</th>\n",
              "      <th>Date</th>\n",
              "      <th>Block</th>\n",
              "      <th>IUCR</th>\n",
              "      <th>Primary Type</th>\n",
              "      <th>Description</th>\n",
              "      <th>Location Description</th>\n",
              "      <th>Arrest</th>\n",
              "      <th>...</th>\n",
              "      <th>Ward</th>\n",
              "      <th>Community Area</th>\n",
              "      <th>FBI Code</th>\n",
              "      <th>X Coordinate</th>\n",
              "      <th>Y Coordinate</th>\n",
              "      <th>Year</th>\n",
              "      <th>Updated On</th>\n",
              "      <th>Latitude</th>\n",
              "      <th>Longitude</th>\n",
              "      <th>Location</th>\n",
              "    </tr>\n",
              "  </thead>\n",
              "  <tbody>\n",
              "    <tr>\n",
              "      <th>0</th>\n",
              "      <td>3</td>\n",
              "      <td>10508693</td>\n",
              "      <td>HZ250496</td>\n",
              "      <td>05/03/2016 11:40:00 PM</td>\n",
              "      <td>013XX S SAWYER AVE</td>\n",
              "      <td>0486</td>\n",
              "      <td>BATTERY</td>\n",
              "      <td>DOMESTIC BATTERY SIMPLE</td>\n",
              "      <td>APARTMENT</td>\n",
              "      <td>True</td>\n",
              "      <td>...</td>\n",
              "      <td>24.0</td>\n",
              "      <td>29.0</td>\n",
              "      <td>08B</td>\n",
              "      <td>1154907.0</td>\n",
              "      <td>1893681.0</td>\n",
              "      <td>2016</td>\n",
              "      <td>05/10/2016 03:56:50 PM</td>\n",
              "      <td>41.864073</td>\n",
              "      <td>-87.706819</td>\n",
              "      <td>(41.864073157, -87.706818608)</td>\n",
              "    </tr>\n",
              "    <tr>\n",
              "      <th>1</th>\n",
              "      <td>89</td>\n",
              "      <td>10508695</td>\n",
              "      <td>HZ250409</td>\n",
              "      <td>05/03/2016 09:40:00 PM</td>\n",
              "      <td>061XX S DREXEL AVE</td>\n",
              "      <td>0486</td>\n",
              "      <td>BATTERY</td>\n",
              "      <td>DOMESTIC BATTERY SIMPLE</td>\n",
              "      <td>RESIDENCE</td>\n",
              "      <td>False</td>\n",
              "      <td>...</td>\n",
              "      <td>20.0</td>\n",
              "      <td>42.0</td>\n",
              "      <td>08B</td>\n",
              "      <td>1183066.0</td>\n",
              "      <td>1864330.0</td>\n",
              "      <td>2016</td>\n",
              "      <td>05/10/2016 03:56:50 PM</td>\n",
              "      <td>41.782922</td>\n",
              "      <td>-87.604363</td>\n",
              "      <td>(41.782921527, -87.60436317)</td>\n",
              "    </tr>\n",
              "    <tr>\n",
              "      <th>2</th>\n",
              "      <td>197</td>\n",
              "      <td>10508697</td>\n",
              "      <td>HZ250503</td>\n",
              "      <td>05/03/2016 11:31:00 PM</td>\n",
              "      <td>053XX W CHICAGO AVE</td>\n",
              "      <td>0470</td>\n",
              "      <td>PUBLIC PEACE VIOLATION</td>\n",
              "      <td>RECKLESS CONDUCT</td>\n",
              "      <td>STREET</td>\n",
              "      <td>False</td>\n",
              "      <td>...</td>\n",
              "      <td>37.0</td>\n",
              "      <td>25.0</td>\n",
              "      <td>24</td>\n",
              "      <td>1140789.0</td>\n",
              "      <td>1904819.0</td>\n",
              "      <td>2016</td>\n",
              "      <td>05/10/2016 03:56:50 PM</td>\n",
              "      <td>41.894908</td>\n",
              "      <td>-87.758372</td>\n",
              "      <td>(41.894908283, -87.758371958)</td>\n",
              "    </tr>\n",
              "    <tr>\n",
              "      <th>3</th>\n",
              "      <td>673</td>\n",
              "      <td>10508698</td>\n",
              "      <td>HZ250424</td>\n",
              "      <td>05/03/2016 10:10:00 PM</td>\n",
              "      <td>049XX W FULTON ST</td>\n",
              "      <td>0460</td>\n",
              "      <td>BATTERY</td>\n",
              "      <td>SIMPLE</td>\n",
              "      <td>SIDEWALK</td>\n",
              "      <td>False</td>\n",
              "      <td>...</td>\n",
              "      <td>28.0</td>\n",
              "      <td>25.0</td>\n",
              "      <td>08B</td>\n",
              "      <td>1143223.0</td>\n",
              "      <td>1901475.0</td>\n",
              "      <td>2016</td>\n",
              "      <td>05/10/2016 03:56:50 PM</td>\n",
              "      <td>41.885687</td>\n",
              "      <td>-87.749516</td>\n",
              "      <td>(41.885686845, -87.749515983)</td>\n",
              "    </tr>\n",
              "    <tr>\n",
              "      <th>4</th>\n",
              "      <td>911</td>\n",
              "      <td>10508699</td>\n",
              "      <td>HZ250455</td>\n",
              "      <td>05/03/2016 10:00:00 PM</td>\n",
              "      <td>003XX N LOTUS AVE</td>\n",
              "      <td>0820</td>\n",
              "      <td>THEFT</td>\n",
              "      <td>$500 AND UNDER</td>\n",
              "      <td>RESIDENCE</td>\n",
              "      <td>False</td>\n",
              "      <td>...</td>\n",
              "      <td>28.0</td>\n",
              "      <td>25.0</td>\n",
              "      <td>06</td>\n",
              "      <td>1139890.0</td>\n",
              "      <td>1901675.0</td>\n",
              "      <td>2016</td>\n",
              "      <td>05/10/2016 03:56:50 PM</td>\n",
              "      <td>41.886297</td>\n",
              "      <td>-87.761751</td>\n",
              "      <td>(41.886297242, -87.761750709)</td>\n",
              "    </tr>\n",
              "  </tbody>\n",
              "</table>\n",
              "<p>5 rows × 23 columns</p>\n",
              "</div>"
            ],
            "text/plain": [
              "   Unnamed: 0        ID Case Number                    Date  \\\n",
              "0           3  10508693    HZ250496  05/03/2016 11:40:00 PM   \n",
              "1          89  10508695    HZ250409  05/03/2016 09:40:00 PM   \n",
              "2         197  10508697    HZ250503  05/03/2016 11:31:00 PM   \n",
              "3         673  10508698    HZ250424  05/03/2016 10:10:00 PM   \n",
              "4         911  10508699    HZ250455  05/03/2016 10:00:00 PM   \n",
              "\n",
              "                 Block  IUCR            Primary Type              Description  \\\n",
              "0   013XX S SAWYER AVE  0486                 BATTERY  DOMESTIC BATTERY SIMPLE   \n",
              "1   061XX S DREXEL AVE  0486                 BATTERY  DOMESTIC BATTERY SIMPLE   \n",
              "2  053XX W CHICAGO AVE  0470  PUBLIC PEACE VIOLATION         RECKLESS CONDUCT   \n",
              "3    049XX W FULTON ST  0460                 BATTERY                   SIMPLE   \n",
              "4    003XX N LOTUS AVE  0820                   THEFT           $500 AND UNDER   \n",
              "\n",
              "  Location Description  Arrest              ...                Ward  \\\n",
              "0            APARTMENT    True              ...                24.0   \n",
              "1            RESIDENCE   False              ...                20.0   \n",
              "2               STREET   False              ...                37.0   \n",
              "3             SIDEWALK   False              ...                28.0   \n",
              "4            RESIDENCE   False              ...                28.0   \n",
              "\n",
              "   Community Area  FBI Code  X Coordinate  Y Coordinate  Year  \\\n",
              "0            29.0       08B     1154907.0     1893681.0  2016   \n",
              "1            42.0       08B     1183066.0     1864330.0  2016   \n",
              "2            25.0        24     1140789.0     1904819.0  2016   \n",
              "3            25.0       08B     1143223.0     1901475.0  2016   \n",
              "4            25.0        06     1139890.0     1901675.0  2016   \n",
              "\n",
              "               Updated On   Latitude  Longitude                       Location  \n",
              "0  05/10/2016 03:56:50 PM  41.864073 -87.706819  (41.864073157, -87.706818608)  \n",
              "1  05/10/2016 03:56:50 PM  41.782922 -87.604363   (41.782921527, -87.60436317)  \n",
              "2  05/10/2016 03:56:50 PM  41.894908 -87.758372  (41.894908283, -87.758371958)  \n",
              "3  05/10/2016 03:56:50 PM  41.885687 -87.749516  (41.885686845, -87.749515983)  \n",
              "4  05/10/2016 03:56:50 PM  41.886297 -87.761751  (41.886297242, -87.761750709)  \n",
              "\n",
              "[5 rows x 23 columns]"
            ]
          },
          "metadata": {
            "tags": []
          },
          "execution_count": 2
        }
      ]
    },
    {
      "metadata": {
        "id": "2y8WiV4wD2Bn",
        "colab_type": "code",
        "outputId": "7494c07e-3460-4009-c8b4-ea5026655677",
        "colab": {
          "base_uri": "https://localhost:8080/",
          "height": 391
        }
      },
      "cell_type": "code",
      "source": [
        "rel_data = datato2017[['ID','Case Number','Date','Block','IUCR','Primary Type','Description','Location Description',\n",
        "                       'Arrest','Ward','Community Area','FBI Code','Year','Updated On']]\n",
        "rel_data.head()"
      ],
      "execution_count": 0,
      "outputs": [
        {
          "output_type": "execute_result",
          "data": {
            "text/html": [
              "<div>\n",
              "<style scoped>\n",
              "    .dataframe tbody tr th:only-of-type {\n",
              "        vertical-align: middle;\n",
              "    }\n",
              "\n",
              "    .dataframe tbody tr th {\n",
              "        vertical-align: top;\n",
              "    }\n",
              "\n",
              "    .dataframe thead th {\n",
              "        text-align: right;\n",
              "    }\n",
              "</style>\n",
              "<table border=\"1\" class=\"dataframe\">\n",
              "  <thead>\n",
              "    <tr style=\"text-align: right;\">\n",
              "      <th></th>\n",
              "      <th>ID</th>\n",
              "      <th>Case Number</th>\n",
              "      <th>Date</th>\n",
              "      <th>Block</th>\n",
              "      <th>IUCR</th>\n",
              "      <th>Primary Type</th>\n",
              "      <th>Description</th>\n",
              "      <th>Location Description</th>\n",
              "      <th>Arrest</th>\n",
              "      <th>Ward</th>\n",
              "      <th>Community Area</th>\n",
              "      <th>FBI Code</th>\n",
              "      <th>Year</th>\n",
              "      <th>Updated On</th>\n",
              "    </tr>\n",
              "  </thead>\n",
              "  <tbody>\n",
              "    <tr>\n",
              "      <th>0</th>\n",
              "      <td>10508693</td>\n",
              "      <td>HZ250496</td>\n",
              "      <td>05/03/2016 11:40:00 PM</td>\n",
              "      <td>013XX S SAWYER AVE</td>\n",
              "      <td>0486</td>\n",
              "      <td>BATTERY</td>\n",
              "      <td>DOMESTIC BATTERY SIMPLE</td>\n",
              "      <td>APARTMENT</td>\n",
              "      <td>True</td>\n",
              "      <td>24.0</td>\n",
              "      <td>29.0</td>\n",
              "      <td>08B</td>\n",
              "      <td>2016</td>\n",
              "      <td>05/10/2016 03:56:50 PM</td>\n",
              "    </tr>\n",
              "    <tr>\n",
              "      <th>1</th>\n",
              "      <td>10508695</td>\n",
              "      <td>HZ250409</td>\n",
              "      <td>05/03/2016 09:40:00 PM</td>\n",
              "      <td>061XX S DREXEL AVE</td>\n",
              "      <td>0486</td>\n",
              "      <td>BATTERY</td>\n",
              "      <td>DOMESTIC BATTERY SIMPLE</td>\n",
              "      <td>RESIDENCE</td>\n",
              "      <td>False</td>\n",
              "      <td>20.0</td>\n",
              "      <td>42.0</td>\n",
              "      <td>08B</td>\n",
              "      <td>2016</td>\n",
              "      <td>05/10/2016 03:56:50 PM</td>\n",
              "    </tr>\n",
              "    <tr>\n",
              "      <th>2</th>\n",
              "      <td>10508697</td>\n",
              "      <td>HZ250503</td>\n",
              "      <td>05/03/2016 11:31:00 PM</td>\n",
              "      <td>053XX W CHICAGO AVE</td>\n",
              "      <td>0470</td>\n",
              "      <td>PUBLIC PEACE VIOLATION</td>\n",
              "      <td>RECKLESS CONDUCT</td>\n",
              "      <td>STREET</td>\n",
              "      <td>False</td>\n",
              "      <td>37.0</td>\n",
              "      <td>25.0</td>\n",
              "      <td>24</td>\n",
              "      <td>2016</td>\n",
              "      <td>05/10/2016 03:56:50 PM</td>\n",
              "    </tr>\n",
              "    <tr>\n",
              "      <th>3</th>\n",
              "      <td>10508698</td>\n",
              "      <td>HZ250424</td>\n",
              "      <td>05/03/2016 10:10:00 PM</td>\n",
              "      <td>049XX W FULTON ST</td>\n",
              "      <td>0460</td>\n",
              "      <td>BATTERY</td>\n",
              "      <td>SIMPLE</td>\n",
              "      <td>SIDEWALK</td>\n",
              "      <td>False</td>\n",
              "      <td>28.0</td>\n",
              "      <td>25.0</td>\n",
              "      <td>08B</td>\n",
              "      <td>2016</td>\n",
              "      <td>05/10/2016 03:56:50 PM</td>\n",
              "    </tr>\n",
              "    <tr>\n",
              "      <th>4</th>\n",
              "      <td>10508699</td>\n",
              "      <td>HZ250455</td>\n",
              "      <td>05/03/2016 10:00:00 PM</td>\n",
              "      <td>003XX N LOTUS AVE</td>\n",
              "      <td>0820</td>\n",
              "      <td>THEFT</td>\n",
              "      <td>$500 AND UNDER</td>\n",
              "      <td>RESIDENCE</td>\n",
              "      <td>False</td>\n",
              "      <td>28.0</td>\n",
              "      <td>25.0</td>\n",
              "      <td>06</td>\n",
              "      <td>2016</td>\n",
              "      <td>05/10/2016 03:56:50 PM</td>\n",
              "    </tr>\n",
              "  </tbody>\n",
              "</table>\n",
              "</div>"
            ],
            "text/plain": [
              "         ID Case Number                    Date                Block  IUCR  \\\n",
              "0  10508693    HZ250496  05/03/2016 11:40:00 PM   013XX S SAWYER AVE  0486   \n",
              "1  10508695    HZ250409  05/03/2016 09:40:00 PM   061XX S DREXEL AVE  0486   \n",
              "2  10508697    HZ250503  05/03/2016 11:31:00 PM  053XX W CHICAGO AVE  0470   \n",
              "3  10508698    HZ250424  05/03/2016 10:10:00 PM    049XX W FULTON ST  0460   \n",
              "4  10508699    HZ250455  05/03/2016 10:00:00 PM    003XX N LOTUS AVE  0820   \n",
              "\n",
              "             Primary Type              Description Location Description  \\\n",
              "0                 BATTERY  DOMESTIC BATTERY SIMPLE            APARTMENT   \n",
              "1                 BATTERY  DOMESTIC BATTERY SIMPLE            RESIDENCE   \n",
              "2  PUBLIC PEACE VIOLATION         RECKLESS CONDUCT               STREET   \n",
              "3                 BATTERY                   SIMPLE             SIDEWALK   \n",
              "4                   THEFT           $500 AND UNDER            RESIDENCE   \n",
              "\n",
              "   Arrest  Ward  Community Area FBI Code  Year              Updated On  \n",
              "0    True  24.0            29.0      08B  2016  05/10/2016 03:56:50 PM  \n",
              "1   False  20.0            42.0      08B  2016  05/10/2016 03:56:50 PM  \n",
              "2   False  37.0            25.0       24  2016  05/10/2016 03:56:50 PM  \n",
              "3   False  28.0            25.0      08B  2016  05/10/2016 03:56:50 PM  \n",
              "4   False  28.0            25.0       06  2016  05/10/2016 03:56:50 PM  "
            ]
          },
          "metadata": {
            "tags": []
          },
          "execution_count": 4
        }
      ]
    },
    {
      "metadata": {
        "id": "fO7sIi-BDzqi",
        "colab_type": "code",
        "outputId": "f916a1e7-089f-48c0-eeea-8904ee6495c8",
        "colab": {
          "base_uri": "https://localhost:8080/",
          "height": 34
        }
      },
      "cell_type": "code",
      "source": [
        "rel_data.shape"
      ],
      "execution_count": 0,
      "outputs": [
        {
          "output_type": "execute_result",
          "data": {
            "text/plain": [
              "(1456714, 14)"
            ]
          },
          "metadata": {
            "tags": []
          },
          "execution_count": 5
        }
      ]
    },
    {
      "metadata": {
        "id": "b31okKKLECIV",
        "colab_type": "code",
        "outputId": "67af14d8-5a22-4368-e628-172466740342",
        "colab": {
          "base_uri": "https://localhost:8080/",
          "height": 34
        }
      },
      "cell_type": "code",
      "source": [
        "# Reduce size of dataset for processing\n",
        "rel_data = rel_data[1450000:]\n",
        "rel_data.shape"
      ],
      "execution_count": 0,
      "outputs": [
        {
          "output_type": "execute_result",
          "data": {
            "text/plain": [
              "(6714, 14)"
            ]
          },
          "metadata": {
            "tags": []
          },
          "execution_count": 6
        }
      ]
    },
    {
      "metadata": {
        "id": "hQFkXvNVnL5m",
        "colab_type": "code",
        "outputId": "a3539fb7-9a92-4935-b529-61abb54209df",
        "colab": {
          "base_uri": "https://localhost:8080/",
          "height": 340
        }
      },
      "cell_type": "code",
      "source": [
        "rel_data.info()"
      ],
      "execution_count": 0,
      "outputs": [
        {
          "output_type": "stream",
          "text": [
            "<class 'pandas.core.frame.DataFrame'>\n",
            "RangeIndex: 6714 entries, 1450000 to 1456713\n",
            "Data columns (total 14 columns):\n",
            "ID                      6714 non-null int64\n",
            "Case Number             6714 non-null object\n",
            "Date                    6714 non-null object\n",
            "Block                   6714 non-null object\n",
            "IUCR                    6714 non-null object\n",
            "Primary Type            6714 non-null object\n",
            "Description             6714 non-null object\n",
            "Location Description    6684 non-null object\n",
            "Arrest                  6714 non-null bool\n",
            "Ward                    6714 non-null float64\n",
            "Community Area          6714 non-null float64\n",
            "FBI Code                6714 non-null object\n",
            "Year                    6714 non-null int64\n",
            "Updated On              6714 non-null object\n",
            "dtypes: bool(1), float64(2), int64(2), object(9)\n",
            "memory usage: 688.5+ KB\n"
          ],
          "name": "stdout"
        }
      ]
    },
    {
      "metadata": {
        "id": "1t3OTk01DuA8",
        "colab_type": "text"
      },
      "cell_type": "markdown",
      "source": [
        "### Predicting Where the Crime Will Occur Next"
      ]
    },
    {
      "metadata": {
        "id": "2zfAiITHDw7Z",
        "colab_type": "code",
        "colab": {}
      },
      "cell_type": "code",
      "source": [
        "from sklearn import preprocessing\n",
        "from sklearn.metrics import confusion_matrix \n",
        "from sklearn.model_selection import train_test_split"
      ],
      "execution_count": 0,
      "outputs": []
    },
    {
      "metadata": {
        "id": "cWudSQG0EAAW",
        "colab_type": "code",
        "outputId": "065da4d3-768a-4e64-8b87-5ed3baf3f8dd",
        "colab": {
          "base_uri": "https://localhost:8080/",
          "height": 34
        }
      },
      "cell_type": "code",
      "source": [
        "rel_data.shape"
      ],
      "execution_count": 0,
      "outputs": [
        {
          "output_type": "execute_result",
          "data": {
            "text/plain": [
              "(6714, 14)"
            ]
          },
          "metadata": {
            "tags": []
          },
          "execution_count": 9
        }
      ]
    },
    {
      "metadata": {
        "id": "x2IP76oQS-8m",
        "colab_type": "text"
      },
      "cell_type": "markdown",
      "source": [
        "Note drastic reduction in data points to run on 12GB of ram."
      ]
    },
    {
      "metadata": {
        "id": "y2mSpQz8idVv",
        "colab_type": "text"
      },
      "cell_type": "markdown",
      "source": [
        "### Make heatmap to see which features are most correlated"
      ]
    },
    {
      "metadata": {
        "id": "AI6QOXhRiNKA",
        "colab_type": "code",
        "outputId": "b6ff577f-c960-4031-a187-8d48213caf1c",
        "colab": {
          "base_uri": "https://localhost:8080/",
          "height": 282
        }
      },
      "cell_type": "code",
      "source": [
        "correlation = rel_data.corr()\n",
        "sns.heatmap(correlation)"
      ],
      "execution_count": 0,
      "outputs": [
        {
          "output_type": "execute_result",
          "data": {
            "text/plain": [
              "<matplotlib.axes._subplots.AxesSubplot at 0x7fb4daeb36d8>"
            ]
          },
          "metadata": {
            "tags": []
          },
          "execution_count": 10
        },
        {
          "output_type": "display_data",
          "data": {
            "image/png": "[encoded data removed]",
            "text/plain": [
              "<Figure size 432x288 with 2 Axes>"
            ]
          },
          "metadata": {
            "tags": []
          }
        }
      ]
    },
    {
      "metadata": {
        "id": "lTzszkkri3Xs",
        "colab_type": "text"
      },
      "cell_type": "markdown",
      "source": [
        "This isn't giving the desired information.  I was hoping for more information on features that might influence which community area will experience crime, since that is the output variable for the predictive model."
      ]
    },
    {
      "metadata": {
        "id": "R8XkV_Nxh3IZ",
        "colab_type": "text"
      },
      "cell_type": "markdown",
      "source": [
        "### The Get Dummies Method"
      ]
    },
    {
      "metadata": {
        "id": "lwPnlqXch0Zy",
        "colab_type": "code",
        "outputId": "a06d0c57-21ae-4420-e9de-a8b182ea5f2c",
        "colab": {
          "base_uri": "https://localhost:8080/",
          "height": 287
        }
      },
      "cell_type": "code",
      "source": [
        "rel_dummies = pd.get_dummies(rel_data[['Case Number', 'Date', 'Block', 'IUCR', 'Primary Type', 'Description',\n",
        "       'Location Description', 'FBI Code', 'Updated On']])\n",
        "rel_dummies.head()"
      ],
      "execution_count": 0,
      "outputs": [
        {
          "output_type": "execute_result",
          "data": {
            "text/html": [
              "<div>\n",
              "<style scoped>\n",
              "    .dataframe tbody tr th:only-of-type {\n",
              "        vertical-align: middle;\n",
              "    }\n",
              "\n",
              "    .dataframe tbody tr th {\n",
              "        vertical-align: top;\n",
              "    }\n",
              "\n",
              "    .dataframe thead th {\n",
              "        text-align: right;\n",
              "    }\n",
              "</style>\n",
              "<table border=\"1\" class=\"dataframe\">\n",
              "  <thead>\n",
              "    <tr style=\"text-align: right;\">\n",
              "      <th></th>\n",
              "      <th>Case Number_HX125483</th>\n",
              "      <th>Case Number_HX250586</th>\n",
              "      <th>Case Number_HX255324</th>\n",
              "      <th>Case Number_HX287488</th>\n",
              "      <th>Case Number_HX301261</th>\n",
              "      <th>Case Number_HX314624</th>\n",
              "      <th>Case Number_HY112577</th>\n",
              "      <th>Case Number_HY126195</th>\n",
              "      <th>Case Number_HY189254</th>\n",
              "      <th>Case Number_HY217048</th>\n",
              "      <th>...</th>\n",
              "      <th>Updated On_01/21/2017 03:48:36 PM</th>\n",
              "      <th>Updated On_01/22/2017 03:46:03 PM</th>\n",
              "      <th>Updated On_01/22/2017 03:47:43 PM</th>\n",
              "      <th>Updated On_01/23/2017 03:49:47 PM</th>\n",
              "      <th>Updated On_01/23/2017 03:52:03 PM</th>\n",
              "      <th>Updated On_01/24/2017 03:52:49 PM</th>\n",
              "      <th>Updated On_01/24/2017 03:55:11 PM</th>\n",
              "      <th>Updated On_01/25/2017 03:52:18 PM</th>\n",
              "      <th>Updated On_01/25/2017 03:54:12 PM</th>\n",
              "      <th>Updated On_05/10/2016 03:56:50 PM</th>\n",
              "    </tr>\n",
              "  </thead>\n",
              "  <tbody>\n",
              "    <tr>\n",
              "      <th>1450000</th>\n",
              "      <td>0</td>\n",
              "      <td>0</td>\n",
              "      <td>0</td>\n",
              "      <td>0</td>\n",
              "      <td>0</td>\n",
              "      <td>0</td>\n",
              "      <td>0</td>\n",
              "      <td>0</td>\n",
              "      <td>0</td>\n",
              "      <td>0</td>\n",
              "      <td>...</td>\n",
              "      <td>0</td>\n",
              "      <td>0</td>\n",
              "      <td>0</td>\n",
              "      <td>0</td>\n",
              "      <td>0</td>\n",
              "      <td>0</td>\n",
              "      <td>0</td>\n",
              "      <td>0</td>\n",
              "      <td>0</td>\n",
              "      <td>0</td>\n",
              "    </tr>\n",
              "    <tr>\n",
              "      <th>1450001</th>\n",
              "      <td>0</td>\n",
              "      <td>0</td>\n",
              "      <td>0</td>\n",
              "      <td>0</td>\n",
              "      <td>0</td>\n",
              "      <td>0</td>\n",
              "      <td>0</td>\n",
              "      <td>0</td>\n",
              "      <td>0</td>\n",
              "      <td>0</td>\n",
              "      <td>...</td>\n",
              "      <td>0</td>\n",
              "      <td>0</td>\n",
              "      <td>0</td>\n",
              "      <td>0</td>\n",
              "      <td>0</td>\n",
              "      <td>0</td>\n",
              "      <td>0</td>\n",
              "      <td>0</td>\n",
              "      <td>0</td>\n",
              "      <td>0</td>\n",
              "    </tr>\n",
              "    <tr>\n",
              "      <th>1450002</th>\n",
              "      <td>0</td>\n",
              "      <td>0</td>\n",
              "      <td>0</td>\n",
              "      <td>0</td>\n",
              "      <td>0</td>\n",
              "      <td>0</td>\n",
              "      <td>0</td>\n",
              "      <td>0</td>\n",
              "      <td>0</td>\n",
              "      <td>0</td>\n",
              "      <td>...</td>\n",
              "      <td>0</td>\n",
              "      <td>0</td>\n",
              "      <td>0</td>\n",
              "      <td>0</td>\n",
              "      <td>0</td>\n",
              "      <td>0</td>\n",
              "      <td>0</td>\n",
              "      <td>0</td>\n",
              "      <td>0</td>\n",
              "      <td>0</td>\n",
              "    </tr>\n",
              "    <tr>\n",
              "      <th>1450003</th>\n",
              "      <td>0</td>\n",
              "      <td>0</td>\n",
              "      <td>0</td>\n",
              "      <td>0</td>\n",
              "      <td>0</td>\n",
              "      <td>0</td>\n",
              "      <td>0</td>\n",
              "      <td>0</td>\n",
              "      <td>0</td>\n",
              "      <td>0</td>\n",
              "      <td>...</td>\n",
              "      <td>0</td>\n",
              "      <td>0</td>\n",
              "      <td>0</td>\n",
              "      <td>0</td>\n",
              "      <td>0</td>\n",
              "      <td>0</td>\n",
              "      <td>0</td>\n",
              "      <td>0</td>\n",
              "      <td>0</td>\n",
              "      <td>0</td>\n",
              "    </tr>\n",
              "    <tr>\n",
              "      <th>1450004</th>\n",
              "      <td>0</td>\n",
              "      <td>0</td>\n",
              "      <td>0</td>\n",
              "      <td>0</td>\n",
              "      <td>0</td>\n",
              "      <td>0</td>\n",
              "      <td>0</td>\n",
              "      <td>0</td>\n",
              "      <td>0</td>\n",
              "      <td>0</td>\n",
              "      <td>...</td>\n",
              "      <td>0</td>\n",
              "      <td>0</td>\n",
              "      <td>0</td>\n",
              "      <td>0</td>\n",
              "      <td>0</td>\n",
              "      <td>0</td>\n",
              "      <td>0</td>\n",
              "      <td>0</td>\n",
              "      <td>0</td>\n",
              "      <td>0</td>\n",
              "    </tr>\n",
              "  </tbody>\n",
              "</table>\n",
              "<p>5 rows × 15767 columns</p>\n",
              "</div>"
            ],
            "text/plain": [
              "         Case Number_HX125483  Case Number_HX250586  Case Number_HX255324  \\\n",
              "1450000                     0                     0                     0   \n",
              "1450001                     0                     0                     0   \n",
              "1450002                     0                     0                     0   \n",
              "1450003                     0                     0                     0   \n",
              "1450004                     0                     0                     0   \n",
              "\n",
              "         Case Number_HX287488  Case Number_HX301261  Case Number_HX314624  \\\n",
              "1450000                     0                     0                     0   \n",
              "1450001                     0                     0                     0   \n",
              "1450002                     0                     0                     0   \n",
              "1450003                     0                     0                     0   \n",
              "1450004                     0                     0                     0   \n",
              "\n",
              "         Case Number_HY112577  Case Number_HY126195  Case Number_HY189254  \\\n",
              "1450000                     0                     0                     0   \n",
              "1450001                     0                     0                     0   \n",
              "1450002                     0                     0                     0   \n",
              "1450003                     0                     0                     0   \n",
              "1450004                     0                     0                     0   \n",
              "\n",
              "         Case Number_HY217048                ...                  \\\n",
              "1450000                     0                ...                   \n",
              "1450001                     0                ...                   \n",
              "1450002                     0                ...                   \n",
              "1450003                     0                ...                   \n",
              "1450004                     0                ...                   \n",
              "\n",
              "         Updated On_01/21/2017 03:48:36 PM  Updated On_01/22/2017 03:46:03 PM  \\\n",
              "1450000                                  0                                  0   \n",
              "1450001                                  0                                  0   \n",
              "1450002                                  0                                  0   \n",
              "1450003                                  0                                  0   \n",
              "1450004                                  0                                  0   \n",
              "\n",
              "         Updated On_01/22/2017 03:47:43 PM  Updated On_01/23/2017 03:49:47 PM  \\\n",
              "1450000                                  0                                  0   \n",
              "1450001                                  0                                  0   \n",
              "1450002                                  0                                  0   \n",
              "1450003                                  0                                  0   \n",
              "1450004                                  0                                  0   \n",
              "\n",
              "         Updated On_01/23/2017 03:52:03 PM  Updated On_01/24/2017 03:52:49 PM  \\\n",
              "1450000                                  0                                  0   \n",
              "1450001                                  0                                  0   \n",
              "1450002                                  0                                  0   \n",
              "1450003                                  0                                  0   \n",
              "1450004                                  0                                  0   \n",
              "\n",
              "         Updated On_01/24/2017 03:55:11 PM  Updated On_01/25/2017 03:52:18 PM  \\\n",
              "1450000                                  0                                  0   \n",
              "1450001                                  0                                  0   \n",
              "1450002                                  0                                  0   \n",
              "1450003                                  0                                  0   \n",
              "1450004                                  0                                  0   \n",
              "\n",
              "         Updated On_01/25/2017 03:54:12 PM  Updated On_05/10/2016 03:56:50 PM  \n",
              "1450000                                  0                                  0  \n",
              "1450001                                  0                                  0  \n",
              "1450002                                  0                                  0  \n",
              "1450003                                  0                                  0  \n",
              "1450004                                  0                                  0  \n",
              "\n",
              "[5 rows x 15767 columns]"
            ]
          },
          "metadata": {
            "tags": []
          },
          "execution_count": 11
        }
      ]
    },
    {
      "metadata": {
        "id": "DC6N1_pIh0jw",
        "colab_type": "code",
        "outputId": "f897752b-fdf2-4022-b7d1-cab9c0dce3ba",
        "colab": {
          "base_uri": "https://localhost:8080/",
          "height": 204
        }
      },
      "cell_type": "code",
      "source": [
        "rel_data = rel_data.drop(['Case Number', 'Date', 'Block', 'IUCR', 'Primary Type', 'Description',\n",
        "       'Location Description', 'FBI Code', 'Updated On'],axis=1)\n",
        "rel_data.head()"
      ],
      "execution_count": 0,
      "outputs": [
        {
          "output_type": "execute_result",
          "data": {
            "text/html": [
              "<div>\n",
              "<style scoped>\n",
              "    .dataframe tbody tr th:only-of-type {\n",
              "        vertical-align: middle;\n",
              "    }\n",
              "\n",
              "    .dataframe tbody tr th {\n",
              "        vertical-align: top;\n",
              "    }\n",
              "\n",
              "    .dataframe thead th {\n",
              "        text-align: right;\n",
              "    }\n",
              "</style>\n",
              "<table border=\"1\" class=\"dataframe\">\n",
              "  <thead>\n",
              "    <tr style=\"text-align: right;\">\n",
              "      <th></th>\n",
              "      <th>ID</th>\n",
              "      <th>Arrest</th>\n",
              "      <th>Ward</th>\n",
              "      <th>Community Area</th>\n",
              "      <th>Year</th>\n",
              "    </tr>\n",
              "  </thead>\n",
              "  <tbody>\n",
              "    <tr>\n",
              "      <th>1450000</th>\n",
              "      <td>10812982</td>\n",
              "      <td>False</td>\n",
              "      <td>38.0</td>\n",
              "      <td>15.0</td>\n",
              "      <td>2017</td>\n",
              "    </tr>\n",
              "    <tr>\n",
              "      <th>1450001</th>\n",
              "      <td>10812983</td>\n",
              "      <td>False</td>\n",
              "      <td>14.0</td>\n",
              "      <td>57.0</td>\n",
              "      <td>2017</td>\n",
              "    </tr>\n",
              "    <tr>\n",
              "      <th>1450002</th>\n",
              "      <td>10812986</td>\n",
              "      <td>False</td>\n",
              "      <td>23.0</td>\n",
              "      <td>57.0</td>\n",
              "      <td>2017</td>\n",
              "    </tr>\n",
              "    <tr>\n",
              "      <th>1450003</th>\n",
              "      <td>10813012</td>\n",
              "      <td>False</td>\n",
              "      <td>42.0</td>\n",
              "      <td>8.0</td>\n",
              "      <td>2017</td>\n",
              "    </tr>\n",
              "    <tr>\n",
              "      <th>1450004</th>\n",
              "      <td>10813013</td>\n",
              "      <td>False</td>\n",
              "      <td>2.0</td>\n",
              "      <td>33.0</td>\n",
              "      <td>2017</td>\n",
              "    </tr>\n",
              "  </tbody>\n",
              "</table>\n",
              "</div>"
            ],
            "text/plain": [
              "               ID  Arrest  Ward  Community Area  Year\n",
              "1450000  10812982   False  38.0            15.0  2017\n",
              "1450001  10812983   False  14.0            57.0  2017\n",
              "1450002  10812986   False  23.0            57.0  2017\n",
              "1450003  10813012   False  42.0             8.0  2017\n",
              "1450004  10813013   False   2.0            33.0  2017"
            ]
          },
          "metadata": {
            "tags": []
          },
          "execution_count": 12
        }
      ]
    },
    {
      "metadata": {
        "id": "EH-vV2RSh0yg",
        "colab_type": "code",
        "outputId": "f7abf062-5ada-4d91-e81c-f2fd8f79378e",
        "colab": {
          "base_uri": "https://localhost:8080/",
          "height": 287
        }
      },
      "cell_type": "code",
      "source": [
        "rel = pd.concat([rel_data, rel_dummies], axis=1)\n",
        "rel.head()"
      ],
      "execution_count": 0,
      "outputs": [
        {
          "output_type": "execute_result",
          "data": {
            "text/html": [
              "<div>\n",
              "<style scoped>\n",
              "    .dataframe tbody tr th:only-of-type {\n",
              "        vertical-align: middle;\n",
              "    }\n",
              "\n",
              "    .dataframe tbody tr th {\n",
              "        vertical-align: top;\n",
              "    }\n",
              "\n",
              "    .dataframe thead th {\n",
              "        text-align: right;\n",
              "    }\n",
              "</style>\n",
              "<table border=\"1\" class=\"dataframe\">\n",
              "  <thead>\n",
              "    <tr style=\"text-align: right;\">\n",
              "      <th></th>\n",
              "      <th>ID</th>\n",
              "      <th>Arrest</th>\n",
              "      <th>Ward</th>\n",
              "      <th>Community Area</th>\n",
              "      <th>Year</th>\n",
              "      <th>Case Number_HX125483</th>\n",
              "      <th>Case Number_HX250586</th>\n",
              "      <th>Case Number_HX255324</th>\n",
              "      <th>Case Number_HX287488</th>\n",
              "      <th>Case Number_HX301261</th>\n",
              "      <th>...</th>\n",
              "      <th>Updated On_01/21/2017 03:48:36 PM</th>\n",
              "      <th>Updated On_01/22/2017 03:46:03 PM</th>\n",
              "      <th>Updated On_01/22/2017 03:47:43 PM</th>\n",
              "      <th>Updated On_01/23/2017 03:49:47 PM</th>\n",
              "      <th>Updated On_01/23/2017 03:52:03 PM</th>\n",
              "      <th>Updated On_01/24/2017 03:52:49 PM</th>\n",
              "      <th>Updated On_01/24/2017 03:55:11 PM</th>\n",
              "      <th>Updated On_01/25/2017 03:52:18 PM</th>\n",
              "      <th>Updated On_01/25/2017 03:54:12 PM</th>\n",
              "      <th>Updated On_05/10/2016 03:56:50 PM</th>\n",
              "    </tr>\n",
              "  </thead>\n",
              "  <tbody>\n",
              "    <tr>\n",
              "      <th>1450000</th>\n",
              "      <td>10812982</td>\n",
              "      <td>False</td>\n",
              "      <td>38.0</td>\n",
              "      <td>15.0</td>\n",
              "      <td>2017</td>\n",
              "      <td>0</td>\n",
              "      <td>0</td>\n",
              "      <td>0</td>\n",
              "      <td>0</td>\n",
              "      <td>0</td>\n",
              "      <td>...</td>\n",
              "      <td>0</td>\n",
              "      <td>0</td>\n",
              "      <td>0</td>\n",
              "      <td>0</td>\n",
              "      <td>0</td>\n",
              "      <td>0</td>\n",
              "      <td>0</td>\n",
              "      <td>0</td>\n",
              "      <td>0</td>\n",
              "      <td>0</td>\n",
              "    </tr>\n",
              "    <tr>\n",
              "      <th>1450001</th>\n",
              "      <td>10812983</td>\n",
              "      <td>False</td>\n",
              "      <td>14.0</td>\n",
              "      <td>57.0</td>\n",
              "      <td>2017</td>\n",
              "      <td>0</td>\n",
              "      <td>0</td>\n",
              "      <td>0</td>\n",
              "      <td>0</td>\n",
              "      <td>0</td>\n",
              "      <td>...</td>\n",
              "      <td>0</td>\n",
              "      <td>0</td>\n",
              "      <td>0</td>\n",
              "      <td>0</td>\n",
              "      <td>0</td>\n",
              "      <td>0</td>\n",
              "      <td>0</td>\n",
              "      <td>0</td>\n",
              "      <td>0</td>\n",
              "      <td>0</td>\n",
              "    </tr>\n",
              "    <tr>\n",
              "      <th>1450002</th>\n",
              "      <td>10812986</td>\n",
              "      <td>False</td>\n",
              "      <td>23.0</td>\n",
              "      <td>57.0</td>\n",
              "      <td>2017</td>\n",
              "      <td>0</td>\n",
              "      <td>0</td>\n",
              "      <td>0</td>\n",
              "      <td>0</td>\n",
              "      <td>0</td>\n",
              "      <td>...</td>\n",
              "      <td>0</td>\n",
              "      <td>0</td>\n",
              "      <td>0</td>\n",
              "      <td>0</td>\n",
              "      <td>0</td>\n",
              "      <td>0</td>\n",
              "      <td>0</td>\n",
              "      <td>0</td>\n",
              "      <td>0</td>\n",
              "      <td>0</td>\n",
              "    </tr>\n",
              "    <tr>\n",
              "      <th>1450003</th>\n",
              "      <td>10813012</td>\n",
              "      <td>False</td>\n",
              "      <td>42.0</td>\n",
              "      <td>8.0</td>\n",
              "      <td>2017</td>\n",
              "      <td>0</td>\n",
              "      <td>0</td>\n",
              "      <td>0</td>\n",
              "      <td>0</td>\n",
              "      <td>0</td>\n",
              "      <td>...</td>\n",
              "      <td>0</td>\n",
              "      <td>0</td>\n",
              "      <td>0</td>\n",
              "      <td>0</td>\n",
              "      <td>0</td>\n",
              "      <td>0</td>\n",
              "      <td>0</td>\n",
              "      <td>0</td>\n",
              "      <td>0</td>\n",
              "      <td>0</td>\n",
              "    </tr>\n",
              "    <tr>\n",
              "      <th>1450004</th>\n",
              "      <td>10813013</td>\n",
              "      <td>False</td>\n",
              "      <td>2.0</td>\n",
              "      <td>33.0</td>\n",
              "      <td>2017</td>\n",
              "      <td>0</td>\n",
              "      <td>0</td>\n",
              "      <td>0</td>\n",
              "      <td>0</td>\n",
              "      <td>0</td>\n",
              "      <td>...</td>\n",
              "      <td>0</td>\n",
              "      <td>0</td>\n",
              "      <td>0</td>\n",
              "      <td>0</td>\n",
              "      <td>0</td>\n",
              "      <td>0</td>\n",
              "      <td>0</td>\n",
              "      <td>0</td>\n",
              "      <td>0</td>\n",
              "      <td>0</td>\n",
              "    </tr>\n",
              "  </tbody>\n",
              "</table>\n",
              "<p>5 rows × 15772 columns</p>\n",
              "</div>"
            ],
            "text/plain": [
              "               ID  Arrest  Ward  Community Area  Year  Case Number_HX125483  \\\n",
              "1450000  10812982   False  38.0            15.0  2017                     0   \n",
              "1450001  10812983   False  14.0            57.0  2017                     0   \n",
              "1450002  10812986   False  23.0            57.0  2017                     0   \n",
              "1450003  10813012   False  42.0             8.0  2017                     0   \n",
              "1450004  10813013   False   2.0            33.0  2017                     0   \n",
              "\n",
              "         Case Number_HX250586  Case Number_HX255324  Case Number_HX287488  \\\n",
              "1450000                     0                     0                     0   \n",
              "1450001                     0                     0                     0   \n",
              "1450002                     0                     0                     0   \n",
              "1450003                     0                     0                     0   \n",
              "1450004                     0                     0                     0   \n",
              "\n",
              "         Case Number_HX301261                ...                  \\\n",
              "1450000                     0                ...                   \n",
              "1450001                     0                ...                   \n",
              "1450002                     0                ...                   \n",
              "1450003                     0                ...                   \n",
              "1450004                     0                ...                   \n",
              "\n",
              "         Updated On_01/21/2017 03:48:36 PM  Updated On_01/22/2017 03:46:03 PM  \\\n",
              "1450000                                  0                                  0   \n",
              "1450001                                  0                                  0   \n",
              "1450002                                  0                                  0   \n",
              "1450003                                  0                                  0   \n",
              "1450004                                  0                                  0   \n",
              "\n",
              "         Updated On_01/22/2017 03:47:43 PM  Updated On_01/23/2017 03:49:47 PM  \\\n",
              "1450000                                  0                                  0   \n",
              "1450001                                  0                                  0   \n",
              "1450002                                  0                                  0   \n",
              "1450003                                  0                                  0   \n",
              "1450004                                  0                                  0   \n",
              "\n",
              "         Updated On_01/23/2017 03:52:03 PM  Updated On_01/24/2017 03:52:49 PM  \\\n",
              "1450000                                  0                                  0   \n",
              "1450001                                  0                                  0   \n",
              "1450002                                  0                                  0   \n",
              "1450003                                  0                                  0   \n",
              "1450004                                  0                                  0   \n",
              "\n",
              "         Updated On_01/24/2017 03:55:11 PM  Updated On_01/25/2017 03:52:18 PM  \\\n",
              "1450000                                  0                                  0   \n",
              "1450001                                  0                                  0   \n",
              "1450002                                  0                                  0   \n",
              "1450003                                  0                                  0   \n",
              "1450004                                  0                                  0   \n",
              "\n",
              "         Updated On_01/25/2017 03:54:12 PM  Updated On_05/10/2016 03:56:50 PM  \n",
              "1450000                                  0                                  0  \n",
              "1450001                                  0                                  0  \n",
              "1450002                                  0                                  0  \n",
              "1450003                                  0                                  0  \n",
              "1450004                                  0                                  0  \n",
              "\n",
              "[5 rows x 15772 columns]"
            ]
          },
          "metadata": {
            "tags": []
          },
          "execution_count": 13
        }
      ]
    },
    {
      "metadata": {
        "id": "NzrKeFIhrP20",
        "colab_type": "code",
        "colab": {}
      },
      "cell_type": "code",
      "source": [
        "X = rel.loc[:, rel.columns != 'Community Area']\n",
        "y = rel_data['Community Area']"
      ],
      "execution_count": 0,
      "outputs": []
    },
    {
      "metadata": {
        "id": "tIbhWd0ArP7u",
        "colab_type": "code",
        "colab": {}
      },
      "cell_type": "code",
      "source": [
        "# Divide X, y into train and test data, input and output variables \n",
        "X_train, X_test, y_train, y_test = train_test_split(X, y, random_state = 0)"
      ],
      "execution_count": 0,
      "outputs": []
    },
    {
      "metadata": {
        "id": "CqhKu1pVrQBh",
        "colab_type": "code",
        "outputId": "b9dd9b8c-643d-40c5-f623-5841bb66b692",
        "colab": {
          "base_uri": "https://localhost:8080/",
          "height": 119
        }
      },
      "cell_type": "code",
      "source": [
        "rel['Community Area'].value_counts().head()"
      ],
      "execution_count": 0,
      "outputs": [
        {
          "output_type": "execute_result",
          "data": {
            "text/plain": [
              "25.0    424\n",
              "8.0     268\n",
              "28.0    261\n",
              "29.0    247\n",
              "24.0    229\n",
              "Name: Community Area, dtype: int64"
            ]
          },
          "metadata": {
            "tags": []
          },
          "execution_count": 16
        }
      ]
    },
    {
      "metadata": {
        "id": "wuSIqlEK-9LR",
        "colab_type": "text"
      },
      "cell_type": "markdown",
      "source": [
        "There are 77 community areas."
      ]
    },
    {
      "metadata": {
        "id": "FFX9lnpmqdPW",
        "colab_type": "code",
        "colab": {}
      },
      "cell_type": "code",
      "source": [
        "from sklearn.neighbors import KNeighborsClassifier \n",
        "knn = KNeighborsClassifier(n_neighbors = 77).fit(X_train, y_train)"
      ],
      "execution_count": 0,
      "outputs": []
    },
    {
      "metadata": {
        "id": "_TOAZ0FzroRW",
        "colab_type": "code",
        "outputId": "2d882c26-e829-4e86-b265-e3e29a11ae78",
        "colab": {
          "base_uri": "https://localhost:8080/",
          "height": 34
        }
      },
      "cell_type": "code",
      "source": [
        "# Accuracy on X_test \n",
        "accuracy_score = knn.score(X_test, y_test) \n",
        "print(accuracy_score)"
      ],
      "execution_count": 0,
      "outputs": [
        {
          "output_type": "stream",
          "text": [
            "0.051816557474687316\n"
          ],
          "name": "stdout"
        }
      ]
    },
    {
      "metadata": {
        "id": "ixVL2ITTsMYw",
        "colab_type": "text"
      },
      "cell_type": "markdown",
      "source": [
        "##This is not a very accurate model\n",
        "#### Let's read the data again and try again in a new notebook."
      ]
    },
    {
      "metadata": {
        "id": "HRsUL9GssQwx",
        "colab_type": "code",
        "colab": {
          "base_uri": "https://localhost:8080/",
          "height": 440
        },
        "outputId": "8c6cf370-e7d6-40ba-e717-ba69674257a9"
      },
      "cell_type": "code",
      "source": [
        "datato2017 = pd.read_csv(\"/content/gdrive/My Drive/OwnJupyterNotebooks/Chicago_Crimes_2012_to_2017.csv\", error_bad_lines=False)\n",
        "datato2017.head()"
      ],
      "execution_count": 3,
      "outputs": [
        {
          "output_type": "execute_result",
          "data": {
            "text/html": [
              "<div>\n",
              "<style scoped>\n",
              "    .dataframe tbody tr th:only-of-type {\n",
              "        vertical-align: middle;\n",
              "    }\n",
              "\n",
              "    .dataframe tbody tr th {\n",
              "        vertical-align: top;\n",
              "    }\n",
              "\n",
              "    .dataframe thead th {\n",
              "        text-align: right;\n",
              "    }\n",
              "</style>\n",
              "<table border=\"1\" class=\"dataframe\">\n",
              "  <thead>\n",
              "    <tr style=\"text-align: right;\">\n",
              "      <th></th>\n",
              "      <th>Unnamed: 0</th>\n",
              "      <th>ID</th>\n",
              "      <th>Case Number</th>\n",
              "      <th>Date</th>\n",
              "      <th>Block</th>\n",
              "      <th>IUCR</th>\n",
              "      <th>Primary Type</th>\n",
              "      <th>Description</th>\n",
              "      <th>Location Description</th>\n",
              "      <th>Arrest</th>\n",
              "      <th>...</th>\n",
              "      <th>Ward</th>\n",
              "      <th>Community Area</th>\n",
              "      <th>FBI Code</th>\n",
              "      <th>X Coordinate</th>\n",
              "      <th>Y Coordinate</th>\n",
              "      <th>Year</th>\n",
              "      <th>Updated On</th>\n",
              "      <th>Latitude</th>\n",
              "      <th>Longitude</th>\n",
              "      <th>Location</th>\n",
              "    </tr>\n",
              "  </thead>\n",
              "  <tbody>\n",
              "    <tr>\n",
              "      <th>0</th>\n",
              "      <td>3</td>\n",
              "      <td>10508693</td>\n",
              "      <td>HZ250496</td>\n",
              "      <td>05/03/2016 11:40:00 PM</td>\n",
              "      <td>013XX S SAWYER AVE</td>\n",
              "      <td>0486</td>\n",
              "      <td>BATTERY</td>\n",
              "      <td>DOMESTIC BATTERY SIMPLE</td>\n",
              "      <td>APARTMENT</td>\n",
              "      <td>True</td>\n",
              "      <td>...</td>\n",
              "      <td>24.0</td>\n",
              "      <td>29.0</td>\n",
              "      <td>08B</td>\n",
              "      <td>1154907.0</td>\n",
              "      <td>1893681.0</td>\n",
              "      <td>2016</td>\n",
              "      <td>05/10/2016 03:56:50 PM</td>\n",
              "      <td>41.864073</td>\n",
              "      <td>-87.706819</td>\n",
              "      <td>(41.864073157, -87.706818608)</td>\n",
              "    </tr>\n",
              "    <tr>\n",
              "      <th>1</th>\n",
              "      <td>89</td>\n",
              "      <td>10508695</td>\n",
              "      <td>HZ250409</td>\n",
              "      <td>05/03/2016 09:40:00 PM</td>\n",
              "      <td>061XX S DREXEL AVE</td>\n",
              "      <td>0486</td>\n",
              "      <td>BATTERY</td>\n",
              "      <td>DOMESTIC BATTERY SIMPLE</td>\n",
              "      <td>RESIDENCE</td>\n",
              "      <td>False</td>\n",
              "      <td>...</td>\n",
              "      <td>20.0</td>\n",
              "      <td>42.0</td>\n",
              "      <td>08B</td>\n",
              "      <td>1183066.0</td>\n",
              "      <td>1864330.0</td>\n",
              "      <td>2016</td>\n",
              "      <td>05/10/2016 03:56:50 PM</td>\n",
              "      <td>41.782922</td>\n",
              "      <td>-87.604363</td>\n",
              "      <td>(41.782921527, -87.60436317)</td>\n",
              "    </tr>\n",
              "    <tr>\n",
              "      <th>2</th>\n",
              "      <td>197</td>\n",
              "      <td>10508697</td>\n",
              "      <td>HZ250503</td>\n",
              "      <td>05/03/2016 11:31:00 PM</td>\n",
              "      <td>053XX W CHICAGO AVE</td>\n",
              "      <td>0470</td>\n",
              "      <td>PUBLIC PEACE VIOLATION</td>\n",
              "      <td>RECKLESS CONDUCT</td>\n",
              "      <td>STREET</td>\n",
              "      <td>False</td>\n",
              "      <td>...</td>\n",
              "      <td>37.0</td>\n",
              "      <td>25.0</td>\n",
              "      <td>24</td>\n",
              "      <td>1140789.0</td>\n",
              "      <td>1904819.0</td>\n",
              "      <td>2016</td>\n",
              "      <td>05/10/2016 03:56:50 PM</td>\n",
              "      <td>41.894908</td>\n",
              "      <td>-87.758372</td>\n",
              "      <td>(41.894908283, -87.758371958)</td>\n",
              "    </tr>\n",
              "    <tr>\n",
              "      <th>3</th>\n",
              "      <td>673</td>\n",
              "      <td>10508698</td>\n",
              "      <td>HZ250424</td>\n",
              "      <td>05/03/2016 10:10:00 PM</td>\n",
              "      <td>049XX W FULTON ST</td>\n",
              "      <td>0460</td>\n",
              "      <td>BATTERY</td>\n",
              "      <td>SIMPLE</td>\n",
              "      <td>SIDEWALK</td>\n",
              "      <td>False</td>\n",
              "      <td>...</td>\n",
              "      <td>28.0</td>\n",
              "      <td>25.0</td>\n",
              "      <td>08B</td>\n",
              "      <td>1143223.0</td>\n",
              "      <td>1901475.0</td>\n",
              "      <td>2016</td>\n",
              "      <td>05/10/2016 03:56:50 PM</td>\n",
              "      <td>41.885687</td>\n",
              "      <td>-87.749516</td>\n",
              "      <td>(41.885686845, -87.749515983)</td>\n",
              "    </tr>\n",
              "    <tr>\n",
              "      <th>4</th>\n",
              "      <td>911</td>\n",
              "      <td>10508699</td>\n",
              "      <td>HZ250455</td>\n",
              "      <td>05/03/2016 10:00:00 PM</td>\n",
              "      <td>003XX N LOTUS AVE</td>\n",
              "      <td>0820</td>\n",
              "      <td>THEFT</td>\n",
              "      <td>$500 AND UNDER</td>\n",
              "      <td>RESIDENCE</td>\n",
              "      <td>False</td>\n",
              "      <td>...</td>\n",
              "      <td>28.0</td>\n",
              "      <td>25.0</td>\n",
              "      <td>06</td>\n",
              "      <td>1139890.0</td>\n",
              "      <td>1901675.0</td>\n",
              "      <td>2016</td>\n",
              "      <td>05/10/2016 03:56:50 PM</td>\n",
              "      <td>41.886297</td>\n",
              "      <td>-87.761751</td>\n",
              "      <td>(41.886297242, -87.761750709)</td>\n",
              "    </tr>\n",
              "  </tbody>\n",
              "</table>\n",
              "<p>5 rows × 23 columns</p>\n",
              "</div>"
            ],
            "text/plain": [
              "   Unnamed: 0        ID Case Number                    Date  \\\n",
              "0           3  10508693    HZ250496  05/03/2016 11:40:00 PM   \n",
              "1          89  10508695    HZ250409  05/03/2016 09:40:00 PM   \n",
              "2         197  10508697    HZ250503  05/03/2016 11:31:00 PM   \n",
              "3         673  10508698    HZ250424  05/03/2016 10:10:00 PM   \n",
              "4         911  10508699    HZ250455  05/03/2016 10:00:00 PM   \n",
              "\n",
              "                 Block  IUCR            Primary Type              Description  \\\n",
              "0   013XX S SAWYER AVE  0486                 BATTERY  DOMESTIC BATTERY SIMPLE   \n",
              "1   061XX S DREXEL AVE  0486                 BATTERY  DOMESTIC BATTERY SIMPLE   \n",
              "2  053XX W CHICAGO AVE  0470  PUBLIC PEACE VIOLATION         RECKLESS CONDUCT   \n",
              "3    049XX W FULTON ST  0460                 BATTERY                   SIMPLE   \n",
              "4    003XX N LOTUS AVE  0820                   THEFT           $500 AND UNDER   \n",
              "\n",
              "  Location Description  Arrest              ...                Ward  \\\n",
              "0            APARTMENT    True              ...                24.0   \n",
              "1            RESIDENCE   False              ...                20.0   \n",
              "2               STREET   False              ...                37.0   \n",
              "3             SIDEWALK   False              ...                28.0   \n",
              "4            RESIDENCE   False              ...                28.0   \n",
              "\n",
              "   Community Area  FBI Code  X Coordinate  Y Coordinate  Year  \\\n",
              "0            29.0       08B     1154907.0     1893681.0  2016   \n",
              "1            42.0       08B     1183066.0     1864330.0  2016   \n",
              "2            25.0        24     1140789.0     1904819.0  2016   \n",
              "3            25.0       08B     1143223.0     1901475.0  2016   \n",
              "4            25.0        06     1139890.0     1901675.0  2016   \n",
              "\n",
              "               Updated On   Latitude  Longitude                       Location  \n",
              "0  05/10/2016 03:56:50 PM  41.864073 -87.706819  (41.864073157, -87.706818608)  \n",
              "1  05/10/2016 03:56:50 PM  41.782922 -87.604363   (41.782921527, -87.60436317)  \n",
              "2  05/10/2016 03:56:50 PM  41.894908 -87.758372  (41.894908283, -87.758371958)  \n",
              "3  05/10/2016 03:56:50 PM  41.885687 -87.749516  (41.885686845, -87.749515983)  \n",
              "4  05/10/2016 03:56:50 PM  41.886297 -87.761751  (41.886297242, -87.761750709)  \n",
              "\n",
              "[5 rows x 23 columns]"
            ]
          },
          "metadata": {
            "tags": []
          },
          "execution_count": 3
        }
      ]
    },
    {
      "metadata": {
        "id": "ZmP1WwQKpWwG",
        "colab_type": "code",
        "colab": {
          "base_uri": "https://localhost:8080/",
          "height": 391
        },
        "outputId": "ff3bd145-b160-487d-9052-bcd6a5d99d0f"
      },
      "cell_type": "code",
      "source": [
        "rel_data2 = datato2017[['ID','Case Number','Date','Block','IUCR','Primary Type','Description','Location Description',\n",
        "                       'Arrest','Ward','Community Area','FBI Code','Year','Updated On']]\n",
        "rel_data2.head()"
      ],
      "execution_count": 4,
      "outputs": [
        {
          "output_type": "execute_result",
          "data": {
            "text/html": [
              "<div>\n",
              "<style scoped>\n",
              "    .dataframe tbody tr th:only-of-type {\n",
              "        vertical-align: middle;\n",
              "    }\n",
              "\n",
              "    .dataframe tbody tr th {\n",
              "        vertical-align: top;\n",
              "    }\n",
              "\n",
              "    .dataframe thead th {\n",
              "        text-align: right;\n",
              "    }\n",
              "</style>\n",
              "<table border=\"1\" class=\"dataframe\">\n",
              "  <thead>\n",
              "    <tr style=\"text-align: right;\">\n",
              "      <th></th>\n",
              "      <th>ID</th>\n",
              "      <th>Case Number</th>\n",
              "      <th>Date</th>\n",
              "      <th>Block</th>\n",
              "      <th>IUCR</th>\n",
              "      <th>Primary Type</th>\n",
              "      <th>Description</th>\n",
              "      <th>Location Description</th>\n",
              "      <th>Arrest</th>\n",
              "      <th>Ward</th>\n",
              "      <th>Community Area</th>\n",
              "      <th>FBI Code</th>\n",
              "      <th>Year</th>\n",
              "      <th>Updated On</th>\n",
              "    </tr>\n",
              "  </thead>\n",
              "  <tbody>\n",
              "    <tr>\n",
              "      <th>0</th>\n",
              "      <td>10508693</td>\n",
              "      <td>HZ250496</td>\n",
              "      <td>05/03/2016 11:40:00 PM</td>\n",
              "      <td>013XX S SAWYER AVE</td>\n",
              "      <td>0486</td>\n",
              "      <td>BATTERY</td>\n",
              "      <td>DOMESTIC BATTERY SIMPLE</td>\n",
              "      <td>APARTMENT</td>\n",
              "      <td>True</td>\n",
              "      <td>24.0</td>\n",
              "      <td>29.0</td>\n",
              "      <td>08B</td>\n",
              "      <td>2016</td>\n",
              "      <td>05/10/2016 03:56:50 PM</td>\n",
              "    </tr>\n",
              "    <tr>\n",
              "      <th>1</th>\n",
              "      <td>10508695</td>\n",
              "      <td>HZ250409</td>\n",
              "      <td>05/03/2016 09:40:00 PM</td>\n",
              "      <td>061XX S DREXEL AVE</td>\n",
              "      <td>0486</td>\n",
              "      <td>BATTERY</td>\n",
              "      <td>DOMESTIC BATTERY SIMPLE</td>\n",
              "      <td>RESIDENCE</td>\n",
              "      <td>False</td>\n",
              "      <td>20.0</td>\n",
              "      <td>42.0</td>\n",
              "      <td>08B</td>\n",
              "      <td>2016</td>\n",
              "      <td>05/10/2016 03:56:50 PM</td>\n",
              "    </tr>\n",
              "    <tr>\n",
              "      <th>2</th>\n",
              "      <td>10508697</td>\n",
              "      <td>HZ250503</td>\n",
              "      <td>05/03/2016 11:31:00 PM</td>\n",
              "      <td>053XX W CHICAGO AVE</td>\n",
              "      <td>0470</td>\n",
              "      <td>PUBLIC PEACE VIOLATION</td>\n",
              "      <td>RECKLESS CONDUCT</td>\n",
              "      <td>STREET</td>\n",
              "      <td>False</td>\n",
              "      <td>37.0</td>\n",
              "      <td>25.0</td>\n",
              "      <td>24</td>\n",
              "      <td>2016</td>\n",
              "      <td>05/10/2016 03:56:50 PM</td>\n",
              "    </tr>\n",
              "    <tr>\n",
              "      <th>3</th>\n",
              "      <td>10508698</td>\n",
              "      <td>HZ250424</td>\n",
              "      <td>05/03/2016 10:10:00 PM</td>\n",
              "      <td>049XX W FULTON ST</td>\n",
              "      <td>0460</td>\n",
              "      <td>BATTERY</td>\n",
              "      <td>SIMPLE</td>\n",
              "      <td>SIDEWALK</td>\n",
              "      <td>False</td>\n",
              "      <td>28.0</td>\n",
              "      <td>25.0</td>\n",
              "      <td>08B</td>\n",
              "      <td>2016</td>\n",
              "      <td>05/10/2016 03:56:50 PM</td>\n",
              "    </tr>\n",
              "    <tr>\n",
              "      <th>4</th>\n",
              "      <td>10508699</td>\n",
              "      <td>HZ250455</td>\n",
              "      <td>05/03/2016 10:00:00 PM</td>\n",
              "      <td>003XX N LOTUS AVE</td>\n",
              "      <td>0820</td>\n",
              "      <td>THEFT</td>\n",
              "      <td>$500 AND UNDER</td>\n",
              "      <td>RESIDENCE</td>\n",
              "      <td>False</td>\n",
              "      <td>28.0</td>\n",
              "      <td>25.0</td>\n",
              "      <td>06</td>\n",
              "      <td>2016</td>\n",
              "      <td>05/10/2016 03:56:50 PM</td>\n",
              "    </tr>\n",
              "  </tbody>\n",
              "</table>\n",
              "</div>"
            ],
            "text/plain": [
              "         ID Case Number                    Date                Block  IUCR  \\\n",
              "0  10508693    HZ250496  05/03/2016 11:40:00 PM   013XX S SAWYER AVE  0486   \n",
              "1  10508695    HZ250409  05/03/2016 09:40:00 PM   061XX S DREXEL AVE  0486   \n",
              "2  10508697    HZ250503  05/03/2016 11:31:00 PM  053XX W CHICAGO AVE  0470   \n",
              "3  10508698    HZ250424  05/03/2016 10:10:00 PM    049XX W FULTON ST  0460   \n",
              "4  10508699    HZ250455  05/03/2016 10:00:00 PM    003XX N LOTUS AVE  0820   \n",
              "\n",
              "             Primary Type              Description Location Description  \\\n",
              "0                 BATTERY  DOMESTIC BATTERY SIMPLE            APARTMENT   \n",
              "1                 BATTERY  DOMESTIC BATTERY SIMPLE            RESIDENCE   \n",
              "2  PUBLIC PEACE VIOLATION         RECKLESS CONDUCT               STREET   \n",
              "3                 BATTERY                   SIMPLE             SIDEWALK   \n",
              "4                   THEFT           $500 AND UNDER            RESIDENCE   \n",
              "\n",
              "   Arrest  Ward  Community Area FBI Code  Year              Updated On  \n",
              "0    True  24.0            29.0      08B  2016  05/10/2016 03:56:50 PM  \n",
              "1   False  20.0            42.0      08B  2016  05/10/2016 03:56:50 PM  \n",
              "2   False  37.0            25.0       24  2016  05/10/2016 03:56:50 PM  \n",
              "3   False  28.0            25.0      08B  2016  05/10/2016 03:56:50 PM  \n",
              "4   False  28.0            25.0       06  2016  05/10/2016 03:56:50 PM  "
            ]
          },
          "metadata": {
            "tags": []
          },
          "execution_count": 4
        }
      ]
    },
    {
      "metadata": {
        "id": "uw51Qr2a9kLq",
        "colab_type": "code",
        "colab": {
          "base_uri": "https://localhost:8080/",
          "height": 34
        },
        "outputId": "fb9f1b35-481a-49e9-c44b-40323ebbdfa9"
      },
      "cell_type": "code",
      "source": [
        "# Reduce size of dataset for processing\n",
        "rel_data2 = rel_data2[1450000:]\n",
        "rel_data2.shape"
      ],
      "execution_count": 5,
      "outputs": [
        {
          "output_type": "execute_result",
          "data": {
            "text/plain": [
              "(6714, 14)"
            ]
          },
          "metadata": {
            "tags": []
          },
          "execution_count": 5
        }
      ]
    },
    {
      "metadata": {
        "id": "ygMh3xuL9ke-",
        "colab_type": "code",
        "colab": {
          "base_uri": "https://localhost:8080/",
          "height": 306
        },
        "outputId": "b3a36536-6465-43f8-e038-f539cb0b550d"
      },
      "cell_type": "code",
      "source": [
        "rel3 = rel_data2[['Date','Block','Primary Type','Description','Location Description',\n",
        "                       'Arrest','Ward','Community Area','FBI Code','Year']]\n",
        "rel3.head()"
      ],
      "execution_count": 6,
      "outputs": [
        {
          "output_type": "execute_result",
          "data": {
            "text/html": [
              "<div>\n",
              "<style scoped>\n",
              "    .dataframe tbody tr th:only-of-type {\n",
              "        vertical-align: middle;\n",
              "    }\n",
              "\n",
              "    .dataframe tbody tr th {\n",
              "        vertical-align: top;\n",
              "    }\n",
              "\n",
              "    .dataframe thead th {\n",
              "        text-align: right;\n",
              "    }\n",
              "</style>\n",
              "<table border=\"1\" class=\"dataframe\">\n",
              "  <thead>\n",
              "    <tr style=\"text-align: right;\">\n",
              "      <th></th>\n",
              "      <th>Date</th>\n",
              "      <th>Block</th>\n",
              "      <th>Primary Type</th>\n",
              "      <th>Description</th>\n",
              "      <th>Location Description</th>\n",
              "      <th>Arrest</th>\n",
              "      <th>Ward</th>\n",
              "      <th>Community Area</th>\n",
              "      <th>FBI Code</th>\n",
              "      <th>Year</th>\n",
              "    </tr>\n",
              "  </thead>\n",
              "  <tbody>\n",
              "    <tr>\n",
              "      <th>1450000</th>\n",
              "      <td>01/09/2017 08:00:00 PM</td>\n",
              "      <td>047XX W PATTERSON AVE</td>\n",
              "      <td>BATTERY</td>\n",
              "      <td>DOMESTIC BATTERY SIMPLE</td>\n",
              "      <td>APARTMENT</td>\n",
              "      <td>False</td>\n",
              "      <td>38.0</td>\n",
              "      <td>15.0</td>\n",
              "      <td>08B</td>\n",
              "      <td>2017</td>\n",
              "    </tr>\n",
              "    <tr>\n",
              "      <th>1450001</th>\n",
              "      <td>01/09/2017 06:30:00 PM</td>\n",
              "      <td>047XX S KARLOV AVE</td>\n",
              "      <td>ASSAULT</td>\n",
              "      <td>SIMPLE</td>\n",
              "      <td>RESIDENCE</td>\n",
              "      <td>False</td>\n",
              "      <td>14.0</td>\n",
              "      <td>57.0</td>\n",
              "      <td>08A</td>\n",
              "      <td>2017</td>\n",
              "    </tr>\n",
              "    <tr>\n",
              "      <th>1450002</th>\n",
              "      <td>01/09/2017 04:00:00 AM</td>\n",
              "      <td>048XX S TRIPP AVE</td>\n",
              "      <td>BATTERY</td>\n",
              "      <td>DOMESTIC BATTERY SIMPLE</td>\n",
              "      <td>RESIDENCE</td>\n",
              "      <td>False</td>\n",
              "      <td>23.0</td>\n",
              "      <td>57.0</td>\n",
              "      <td>08B</td>\n",
              "      <td>2017</td>\n",
              "    </tr>\n",
              "    <tr>\n",
              "      <th>1450003</th>\n",
              "      <td>01/09/2017 06:15:00 PM</td>\n",
              "      <td>004XX N CITY FRONT PLAZA DR</td>\n",
              "      <td>THEFT</td>\n",
              "      <td>FROM BUILDING</td>\n",
              "      <td>COLLEGE/UNIVERSITY GROUNDS</td>\n",
              "      <td>False</td>\n",
              "      <td>42.0</td>\n",
              "      <td>8.0</td>\n",
              "      <td>06</td>\n",
              "      <td>2017</td>\n",
              "    </tr>\n",
              "    <tr>\n",
              "      <th>1450004</th>\n",
              "      <td>01/09/2017 12:20:00 PM</td>\n",
              "      <td>017XX S PRAIRIE AVE</td>\n",
              "      <td>DECEPTIVE PRACTICE</td>\n",
              "      <td>FINANCIAL IDENTITY THEFT OVER $ 300</td>\n",
              "      <td>NaN</td>\n",
              "      <td>False</td>\n",
              "      <td>2.0</td>\n",
              "      <td>33.0</td>\n",
              "      <td>11</td>\n",
              "      <td>2017</td>\n",
              "    </tr>\n",
              "  </tbody>\n",
              "</table>\n",
              "</div>"
            ],
            "text/plain": [
              "                           Date                        Block  \\\n",
              "1450000  01/09/2017 08:00:00 PM        047XX W PATTERSON AVE   \n",
              "1450001  01/09/2017 06:30:00 PM           047XX S KARLOV AVE   \n",
              "1450002  01/09/2017 04:00:00 AM            048XX S TRIPP AVE   \n",
              "1450003  01/09/2017 06:15:00 PM  004XX N CITY FRONT PLAZA DR   \n",
              "1450004  01/09/2017 12:20:00 PM          017XX S PRAIRIE AVE   \n",
              "\n",
              "               Primary Type                          Description  \\\n",
              "1450000             BATTERY              DOMESTIC BATTERY SIMPLE   \n",
              "1450001             ASSAULT                               SIMPLE   \n",
              "1450002             BATTERY              DOMESTIC BATTERY SIMPLE   \n",
              "1450003               THEFT                        FROM BUILDING   \n",
              "1450004  DECEPTIVE PRACTICE  FINANCIAL IDENTITY THEFT OVER $ 300   \n",
              "\n",
              "               Location Description  Arrest  Ward  Community Area FBI Code  \\\n",
              "1450000                   APARTMENT   False  38.0            15.0      08B   \n",
              "1450001                   RESIDENCE   False  14.0            57.0      08A   \n",
              "1450002                   RESIDENCE   False  23.0            57.0      08B   \n",
              "1450003  COLLEGE/UNIVERSITY GROUNDS   False  42.0             8.0       06   \n",
              "1450004                         NaN   False   2.0            33.0       11   \n",
              "\n",
              "         Year  \n",
              "1450000  2017  \n",
              "1450001  2017  \n",
              "1450002  2017  \n",
              "1450003  2017  \n",
              "1450004  2017  "
            ]
          },
          "metadata": {
            "tags": []
          },
          "execution_count": 6
        }
      ]
    },
    {
      "metadata": {
        "id": "WrIlFQwh9ksV",
        "colab_type": "code",
        "colab": {
          "base_uri": "https://localhost:8080/",
          "height": 272
        },
        "outputId": "0144cdf0-e70c-4214-83e3-62803fed51f5"
      },
      "cell_type": "code",
      "source": [
        "rel3.info()"
      ],
      "execution_count": 7,
      "outputs": [
        {
          "output_type": "stream",
          "text": [
            "<class 'pandas.core.frame.DataFrame'>\n",
            "RangeIndex: 6714 entries, 1450000 to 1456713\n",
            "Data columns (total 10 columns):\n",
            "Date                    6714 non-null object\n",
            "Block                   6714 non-null object\n",
            "Primary Type            6714 non-null object\n",
            "Description             6714 non-null object\n",
            "Location Description    6684 non-null object\n",
            "Arrest                  6714 non-null bool\n",
            "Ward                    6714 non-null float64\n",
            "Community Area          6714 non-null float64\n",
            "FBI Code                6714 non-null object\n",
            "Year                    6714 non-null int64\n",
            "dtypes: bool(1), float64(2), int64(1), object(6)\n",
            "memory usage: 478.7+ KB\n"
          ],
          "name": "stdout"
        }
      ]
    },
    {
      "metadata": {
        "id": "8YpbrvLE9kw4",
        "colab_type": "code",
        "colab": {
          "base_uri": "https://localhost:8080/",
          "height": 136
        },
        "outputId": "e3565822-eb47-4950-89d8-cec6c395fb48"
      },
      "cell_type": "code",
      "source": [
        "#Arrest, Ward, Community Area, Year are not objects\n",
        "#Check value counts of Year to see if okay to drop\n",
        "\n",
        "rel3['Year'].value_counts()"
      ],
      "execution_count": 8,
      "outputs": [
        {
          "output_type": "execute_result",
          "data": {
            "text/plain": [
              "2017    6041\n",
              "2016     617\n",
              "2015      33\n",
              "2014      18\n",
              "2012       3\n",
              "2013       2\n",
              "Name: Year, dtype: int64"
            ]
          },
          "metadata": {
            "tags": []
          },
          "execution_count": 8
        }
      ]
    },
    {
      "metadata": {
        "id": "6qrIrYGi9k2R",
        "colab_type": "code",
        "colab": {
          "base_uri": "https://localhost:8080/",
          "height": 270
        },
        "outputId": "d814b77c-e158-4608-8b9b-9072d48e9f38"
      },
      "cell_type": "code",
      "source": [
        "rel3_dummies = pd.get_dummies(rel3[['Date','Block','Primary Type','Description','Location Description',\n",
        "                       'Arrest','Ward','FBI Code','Year']])\n",
        "rel3_dummies.head()"
      ],
      "execution_count": 9,
      "outputs": [
        {
          "output_type": "execute_result",
          "data": {
            "text/html": [
              "<div>\n",
              "<style scoped>\n",
              "    .dataframe tbody tr th:only-of-type {\n",
              "        vertical-align: middle;\n",
              "    }\n",
              "\n",
              "    .dataframe tbody tr th {\n",
              "        vertical-align: top;\n",
              "    }\n",
              "\n",
              "    .dataframe thead th {\n",
              "        text-align: right;\n",
              "    }\n",
              "</style>\n",
              "<table border=\"1\" class=\"dataframe\">\n",
              "  <thead>\n",
              "    <tr style=\"text-align: right;\">\n",
              "      <th></th>\n",
              "      <th>Arrest</th>\n",
              "      <th>Ward</th>\n",
              "      <th>Year</th>\n",
              "      <th>Date_01/01/2014 12:00:00 AM</th>\n",
              "      <th>Date_01/01/2014 12:01:00 AM</th>\n",
              "      <th>Date_01/01/2015 08:00:00 AM</th>\n",
              "      <th>Date_01/01/2016 08:00:00 AM</th>\n",
              "      <th>Date_01/01/2016 12:01:00 AM</th>\n",
              "      <th>Date_01/01/2017 01:00:00 AM</th>\n",
              "      <th>Date_01/01/2017 02:30:00 PM</th>\n",
              "      <th>...</th>\n",
              "      <th>FBI Code_13</th>\n",
              "      <th>FBI Code_14</th>\n",
              "      <th>FBI Code_15</th>\n",
              "      <th>FBI Code_16</th>\n",
              "      <th>FBI Code_17</th>\n",
              "      <th>FBI Code_18</th>\n",
              "      <th>FBI Code_20</th>\n",
              "      <th>FBI Code_22</th>\n",
              "      <th>FBI Code_24</th>\n",
              "      <th>FBI Code_26</th>\n",
              "    </tr>\n",
              "  </thead>\n",
              "  <tbody>\n",
              "    <tr>\n",
              "      <th>1450000</th>\n",
              "      <td>False</td>\n",
              "      <td>38.0</td>\n",
              "      <td>2017</td>\n",
              "      <td>0</td>\n",
              "      <td>0</td>\n",
              "      <td>0</td>\n",
              "      <td>0</td>\n",
              "      <td>0</td>\n",
              "      <td>0</td>\n",
              "      <td>0</td>\n",
              "      <td>...</td>\n",
              "      <td>0</td>\n",
              "      <td>0</td>\n",
              "      <td>0</td>\n",
              "      <td>0</td>\n",
              "      <td>0</td>\n",
              "      <td>0</td>\n",
              "      <td>0</td>\n",
              "      <td>0</td>\n",
              "      <td>0</td>\n",
              "      <td>0</td>\n",
              "    </tr>\n",
              "    <tr>\n",
              "      <th>1450001</th>\n",
              "      <td>False</td>\n",
              "      <td>14.0</td>\n",
              "      <td>2017</td>\n",
              "      <td>0</td>\n",
              "      <td>0</td>\n",
              "      <td>0</td>\n",
              "      <td>0</td>\n",
              "      <td>0</td>\n",
              "      <td>0</td>\n",
              "      <td>0</td>\n",
              "      <td>...</td>\n",
              "      <td>0</td>\n",
              "      <td>0</td>\n",
              "      <td>0</td>\n",
              "      <td>0</td>\n",
              "      <td>0</td>\n",
              "      <td>0</td>\n",
              "      <td>0</td>\n",
              "      <td>0</td>\n",
              "      <td>0</td>\n",
              "      <td>0</td>\n",
              "    </tr>\n",
              "    <tr>\n",
              "      <th>1450002</th>\n",
              "      <td>False</td>\n",
              "      <td>23.0</td>\n",
              "      <td>2017</td>\n",
              "      <td>0</td>\n",
              "      <td>0</td>\n",
              "      <td>0</td>\n",
              "      <td>0</td>\n",
              "      <td>0</td>\n",
              "      <td>0</td>\n",
              "      <td>0</td>\n",
              "      <td>...</td>\n",
              "      <td>0</td>\n",
              "      <td>0</td>\n",
              "      <td>0</td>\n",
              "      <td>0</td>\n",
              "      <td>0</td>\n",
              "      <td>0</td>\n",
              "      <td>0</td>\n",
              "      <td>0</td>\n",
              "      <td>0</td>\n",
              "      <td>0</td>\n",
              "    </tr>\n",
              "    <tr>\n",
              "      <th>1450003</th>\n",
              "      <td>False</td>\n",
              "      <td>42.0</td>\n",
              "      <td>2017</td>\n",
              "      <td>0</td>\n",
              "      <td>0</td>\n",
              "      <td>0</td>\n",
              "      <td>0</td>\n",
              "      <td>0</td>\n",
              "      <td>0</td>\n",
              "      <td>0</td>\n",
              "      <td>...</td>\n",
              "      <td>0</td>\n",
              "      <td>0</td>\n",
              "      <td>0</td>\n",
              "      <td>0</td>\n",
              "      <td>0</td>\n",
              "      <td>0</td>\n",
              "      <td>0</td>\n",
              "      <td>0</td>\n",
              "      <td>0</td>\n",
              "      <td>0</td>\n",
              "    </tr>\n",
              "    <tr>\n",
              "      <th>1450004</th>\n",
              "      <td>False</td>\n",
              "      <td>2.0</td>\n",
              "      <td>2017</td>\n",
              "      <td>0</td>\n",
              "      <td>0</td>\n",
              "      <td>0</td>\n",
              "      <td>0</td>\n",
              "      <td>0</td>\n",
              "      <td>0</td>\n",
              "      <td>0</td>\n",
              "      <td>...</td>\n",
              "      <td>0</td>\n",
              "      <td>0</td>\n",
              "      <td>0</td>\n",
              "      <td>0</td>\n",
              "      <td>0</td>\n",
              "      <td>0</td>\n",
              "      <td>0</td>\n",
              "      <td>0</td>\n",
              "      <td>0</td>\n",
              "      <td>0</td>\n",
              "    </tr>\n",
              "  </tbody>\n",
              "</table>\n",
              "<p>5 rows × 8830 columns</p>\n",
              "</div>"
            ],
            "text/plain": [
              "         Arrest  Ward  Year  Date_01/01/2014 12:00:00 AM  \\\n",
              "1450000   False  38.0  2017                            0   \n",
              "1450001   False  14.0  2017                            0   \n",
              "1450002   False  23.0  2017                            0   \n",
              "1450003   False  42.0  2017                            0   \n",
              "1450004   False   2.0  2017                            0   \n",
              "\n",
              "         Date_01/01/2014 12:01:00 AM  Date_01/01/2015 08:00:00 AM  \\\n",
              "1450000                            0                            0   \n",
              "1450001                            0                            0   \n",
              "1450002                            0                            0   \n",
              "1450003                            0                            0   \n",
              "1450004                            0                            0   \n",
              "\n",
              "         Date_01/01/2016 08:00:00 AM  Date_01/01/2016 12:01:00 AM  \\\n",
              "1450000                            0                            0   \n",
              "1450001                            0                            0   \n",
              "1450002                            0                            0   \n",
              "1450003                            0                            0   \n",
              "1450004                            0                            0   \n",
              "\n",
              "         Date_01/01/2017 01:00:00 AM  Date_01/01/2017 02:30:00 PM  \\\n",
              "1450000                            0                            0   \n",
              "1450001                            0                            0   \n",
              "1450002                            0                            0   \n",
              "1450003                            0                            0   \n",
              "1450004                            0                            0   \n",
              "\n",
              "            ...       FBI Code_13  FBI Code_14  FBI Code_15  FBI Code_16  \\\n",
              "1450000     ...                 0            0            0            0   \n",
              "1450001     ...                 0            0            0            0   \n",
              "1450002     ...                 0            0            0            0   \n",
              "1450003     ...                 0            0            0            0   \n",
              "1450004     ...                 0            0            0            0   \n",
              "\n",
              "         FBI Code_17  FBI Code_18  FBI Code_20  FBI Code_22  FBI Code_24  \\\n",
              "1450000            0            0            0            0            0   \n",
              "1450001            0            0            0            0            0   \n",
              "1450002            0            0            0            0            0   \n",
              "1450003            0            0            0            0            0   \n",
              "1450004            0            0            0            0            0   \n",
              "\n",
              "         FBI Code_26  \n",
              "1450000            0  \n",
              "1450001            0  \n",
              "1450002            0  \n",
              "1450003            0  \n",
              "1450004            0  \n",
              "\n",
              "[5 rows x 8830 columns]"
            ]
          },
          "metadata": {
            "tags": []
          },
          "execution_count": 9
        }
      ]
    },
    {
      "metadata": {
        "id": "318yuUbz9lFQ",
        "colab_type": "code",
        "colab": {
          "base_uri": "https://localhost:8080/",
          "height": 204
        },
        "outputId": "a3de5cdc-e36f-40c9-da9a-f3614c2c32c0"
      },
      "cell_type": "code",
      "source": [
        "rel3 = rel3.drop(['Date','Block','Primary Type','Description','Location Description',\n",
        "                       'Arrest','Ward','FBI Code','Year'],axis=1)\n",
        "rel3.head()"
      ],
      "execution_count": 10,
      "outputs": [
        {
          "output_type": "execute_result",
          "data": {
            "text/html": [
              "<div>\n",
              "<style scoped>\n",
              "    .dataframe tbody tr th:only-of-type {\n",
              "        vertical-align: middle;\n",
              "    }\n",
              "\n",
              "    .dataframe tbody tr th {\n",
              "        vertical-align: top;\n",
              "    }\n",
              "\n",
              "    .dataframe thead th {\n",
              "        text-align: right;\n",
              "    }\n",
              "</style>\n",
              "<table border=\"1\" class=\"dataframe\">\n",
              "  <thead>\n",
              "    <tr style=\"text-align: right;\">\n",
              "      <th></th>\n",
              "      <th>Community Area</th>\n",
              "    </tr>\n",
              "  </thead>\n",
              "  <tbody>\n",
              "    <tr>\n",
              "      <th>1450000</th>\n",
              "      <td>15.0</td>\n",
              "    </tr>\n",
              "    <tr>\n",
              "      <th>1450001</th>\n",
              "      <td>57.0</td>\n",
              "    </tr>\n",
              "    <tr>\n",
              "      <th>1450002</th>\n",
              "      <td>57.0</td>\n",
              "    </tr>\n",
              "    <tr>\n",
              "      <th>1450003</th>\n",
              "      <td>8.0</td>\n",
              "    </tr>\n",
              "    <tr>\n",
              "      <th>1450004</th>\n",
              "      <td>33.0</td>\n",
              "    </tr>\n",
              "  </tbody>\n",
              "</table>\n",
              "</div>"
            ],
            "text/plain": [
              "         Community Area\n",
              "1450000            15.0\n",
              "1450001            57.0\n",
              "1450002            57.0\n",
              "1450003             8.0\n",
              "1450004            33.0"
            ]
          },
          "metadata": {
            "tags": []
          },
          "execution_count": 10
        }
      ]
    },
    {
      "metadata": {
        "id": "Xcm4RtKb9lKV",
        "colab_type": "code",
        "colab": {
          "base_uri": "https://localhost:8080/",
          "height": 270
        },
        "outputId": "1c69dfb0-ca2f-41aa-a6c8-ba6bf2a6edae"
      },
      "cell_type": "code",
      "source": [
        "rel_second = pd.concat([rel3, rel3_dummies], axis=1)\n",
        "rel_second.head()"
      ],
      "execution_count": 11,
      "outputs": [
        {
          "output_type": "execute_result",
          "data": {
            "text/html": [
              "<div>\n",
              "<style scoped>\n",
              "    .dataframe tbody tr th:only-of-type {\n",
              "        vertical-align: middle;\n",
              "    }\n",
              "\n",
              "    .dataframe tbody tr th {\n",
              "        vertical-align: top;\n",
              "    }\n",
              "\n",
              "    .dataframe thead th {\n",
              "        text-align: right;\n",
              "    }\n",
              "</style>\n",
              "<table border=\"1\" class=\"dataframe\">\n",
              "  <thead>\n",
              "    <tr style=\"text-align: right;\">\n",
              "      <th></th>\n",
              "      <th>Community Area</th>\n",
              "      <th>Arrest</th>\n",
              "      <th>Ward</th>\n",
              "      <th>Year</th>\n",
              "      <th>Date_01/01/2014 12:00:00 AM</th>\n",
              "      <th>Date_01/01/2014 12:01:00 AM</th>\n",
              "      <th>Date_01/01/2015 08:00:00 AM</th>\n",
              "      <th>Date_01/01/2016 08:00:00 AM</th>\n",
              "      <th>Date_01/01/2016 12:01:00 AM</th>\n",
              "      <th>Date_01/01/2017 01:00:00 AM</th>\n",
              "      <th>...</th>\n",
              "      <th>FBI Code_13</th>\n",
              "      <th>FBI Code_14</th>\n",
              "      <th>FBI Code_15</th>\n",
              "      <th>FBI Code_16</th>\n",
              "      <th>FBI Code_17</th>\n",
              "      <th>FBI Code_18</th>\n",
              "      <th>FBI Code_20</th>\n",
              "      <th>FBI Code_22</th>\n",
              "      <th>FBI Code_24</th>\n",
              "      <th>FBI Code_26</th>\n",
              "    </tr>\n",
              "  </thead>\n",
              "  <tbody>\n",
              "    <tr>\n",
              "      <th>1450000</th>\n",
              "      <td>15.0</td>\n",
              "      <td>False</td>\n",
              "      <td>38.0</td>\n",
              "      <td>2017</td>\n",
              "      <td>0</td>\n",
              "      <td>0</td>\n",
              "      <td>0</td>\n",
              "      <td>0</td>\n",
              "      <td>0</td>\n",
              "      <td>0</td>\n",
              "      <td>...</td>\n",
              "      <td>0</td>\n",
              "      <td>0</td>\n",
              "      <td>0</td>\n",
              "      <td>0</td>\n",
              "      <td>0</td>\n",
              "      <td>0</td>\n",
              "      <td>0</td>\n",
              "      <td>0</td>\n",
              "      <td>0</td>\n",
              "      <td>0</td>\n",
              "    </tr>\n",
              "    <tr>\n",
              "      <th>1450001</th>\n",
              "      <td>57.0</td>\n",
              "      <td>False</td>\n",
              "      <td>14.0</td>\n",
              "      <td>2017</td>\n",
              "      <td>0</td>\n",
              "      <td>0</td>\n",
              "      <td>0</td>\n",
              "      <td>0</td>\n",
              "      <td>0</td>\n",
              "      <td>0</td>\n",
              "      <td>...</td>\n",
              "      <td>0</td>\n",
              "      <td>0</td>\n",
              "      <td>0</td>\n",
              "      <td>0</td>\n",
              "      <td>0</td>\n",
              "      <td>0</td>\n",
              "      <td>0</td>\n",
              "      <td>0</td>\n",
              "      <td>0</td>\n",
              "      <td>0</td>\n",
              "    </tr>\n",
              "    <tr>\n",
              "      <th>1450002</th>\n",
              "      <td>57.0</td>\n",
              "      <td>False</td>\n",
              "      <td>23.0</td>\n",
              "      <td>2017</td>\n",
              "      <td>0</td>\n",
              "      <td>0</td>\n",
              "      <td>0</td>\n",
              "      <td>0</td>\n",
              "      <td>0</td>\n",
              "      <td>0</td>\n",
              "      <td>...</td>\n",
              "      <td>0</td>\n",
              "      <td>0</td>\n",
              "      <td>0</td>\n",
              "      <td>0</td>\n",
              "      <td>0</td>\n",
              "      <td>0</td>\n",
              "      <td>0</td>\n",
              "      <td>0</td>\n",
              "      <td>0</td>\n",
              "      <td>0</td>\n",
              "    </tr>\n",
              "    <tr>\n",
              "      <th>1450003</th>\n",
              "      <td>8.0</td>\n",
              "      <td>False</td>\n",
              "      <td>42.0</td>\n",
              "      <td>2017</td>\n",
              "      <td>0</td>\n",
              "      <td>0</td>\n",
              "      <td>0</td>\n",
              "      <td>0</td>\n",
              "      <td>0</td>\n",
              "      <td>0</td>\n",
              "      <td>...</td>\n",
              "      <td>0</td>\n",
              "      <td>0</td>\n",
              "      <td>0</td>\n",
              "      <td>0</td>\n",
              "      <td>0</td>\n",
              "      <td>0</td>\n",
              "      <td>0</td>\n",
              "      <td>0</td>\n",
              "      <td>0</td>\n",
              "      <td>0</td>\n",
              "    </tr>\n",
              "    <tr>\n",
              "      <th>1450004</th>\n",
              "      <td>33.0</td>\n",
              "      <td>False</td>\n",
              "      <td>2.0</td>\n",
              "      <td>2017</td>\n",
              "      <td>0</td>\n",
              "      <td>0</td>\n",
              "      <td>0</td>\n",
              "      <td>0</td>\n",
              "      <td>0</td>\n",
              "      <td>0</td>\n",
              "      <td>...</td>\n",
              "      <td>0</td>\n",
              "      <td>0</td>\n",
              "      <td>0</td>\n",
              "      <td>0</td>\n",
              "      <td>0</td>\n",
              "      <td>0</td>\n",
              "      <td>0</td>\n",
              "      <td>0</td>\n",
              "      <td>0</td>\n",
              "      <td>0</td>\n",
              "    </tr>\n",
              "  </tbody>\n",
              "</table>\n",
              "<p>5 rows × 8831 columns</p>\n",
              "</div>"
            ],
            "text/plain": [
              "         Community Area  Arrest  Ward  Year  Date_01/01/2014 12:00:00 AM  \\\n",
              "1450000            15.0   False  38.0  2017                            0   \n",
              "1450001            57.0   False  14.0  2017                            0   \n",
              "1450002            57.0   False  23.0  2017                            0   \n",
              "1450003             8.0   False  42.0  2017                            0   \n",
              "1450004            33.0   False   2.0  2017                            0   \n",
              "\n",
              "         Date_01/01/2014 12:01:00 AM  Date_01/01/2015 08:00:00 AM  \\\n",
              "1450000                            0                            0   \n",
              "1450001                            0                            0   \n",
              "1450002                            0                            0   \n",
              "1450003                            0                            0   \n",
              "1450004                            0                            0   \n",
              "\n",
              "         Date_01/01/2016 08:00:00 AM  Date_01/01/2016 12:01:00 AM  \\\n",
              "1450000                            0                            0   \n",
              "1450001                            0                            0   \n",
              "1450002                            0                            0   \n",
              "1450003                            0                            0   \n",
              "1450004                            0                            0   \n",
              "\n",
              "         Date_01/01/2017 01:00:00 AM     ...       FBI Code_13  FBI Code_14  \\\n",
              "1450000                            0     ...                 0            0   \n",
              "1450001                            0     ...                 0            0   \n",
              "1450002                            0     ...                 0            0   \n",
              "1450003                            0     ...                 0            0   \n",
              "1450004                            0     ...                 0            0   \n",
              "\n",
              "         FBI Code_15  FBI Code_16  FBI Code_17  FBI Code_18  FBI Code_20  \\\n",
              "1450000            0            0            0            0            0   \n",
              "1450001            0            0            0            0            0   \n",
              "1450002            0            0            0            0            0   \n",
              "1450003            0            0            0            0            0   \n",
              "1450004            0            0            0            0            0   \n",
              "\n",
              "         FBI Code_22  FBI Code_24  FBI Code_26  \n",
              "1450000            0            0            0  \n",
              "1450001            0            0            0  \n",
              "1450002            0            0            0  \n",
              "1450003            0            0            0  \n",
              "1450004            0            0            0  \n",
              "\n",
              "[5 rows x 8831 columns]"
            ]
          },
          "metadata": {
            "tags": []
          },
          "execution_count": 11
        }
      ]
    },
    {
      "metadata": {
        "id": "EV5tb8X19lBt",
        "colab_type": "code",
        "colab": {}
      },
      "cell_type": "code",
      "source": [
        "X = rel_second.loc[:, rel_second.columns != 'Community Area']\n",
        "y = rel_second['Community Area']"
      ],
      "execution_count": 0,
      "outputs": []
    },
    {
      "metadata": {
        "id": "tG69F5Bs9k94",
        "colab_type": "code",
        "colab": {}
      },
      "cell_type": "code",
      "source": [
        "# Divide X, y into train and test data, input and output variables \n",
        "X_train, X_test, y_train, y_test = train_test_split(X, y, random_state = 0)"
      ],
      "execution_count": 0,
      "outputs": []
    },
    {
      "metadata": {
        "id": "XT_MFpSc9k6t",
        "colab_type": "code",
        "colab": {}
      },
      "cell_type": "code",
      "source": [
        "from sklearn.neighbors import KNeighborsClassifier \n",
        "knn = KNeighborsClassifier(n_neighbors = 77).fit(X_train, y_train)"
      ],
      "execution_count": 0,
      "outputs": []
    },
    {
      "metadata": {
        "id": "gNhjjN2s9kpb",
        "colab_type": "code",
        "colab": {
          "base_uri": "https://localhost:8080/",
          "height": 34
        },
        "outputId": "ac8d23e5-8775-4734-f87f-3c444075c413"
      },
      "cell_type": "code",
      "source": [
        "# Accuracy on X_test \n",
        "accuracy_score = knn.score(X_test, y_test) \n",
        "print(accuracy_score)"
      ],
      "execution_count": 17,
      "outputs": [
        {
          "output_type": "stream",
          "text": [
            "0.406789755807028\n"
          ],
          "name": "stdout"
        }
      ]
    },
    {
      "metadata": {
        "id": "w1hvjg_i_Cjo",
        "colab_type": "text"
      },
      "cell_type": "markdown",
      "source": [
        "#### Removing more 'irrelvant' features made the accuracy score worse."
      ]
    },
    {
      "metadata": {
        "id": "wQw918kM9klx",
        "colab_type": "code",
        "colab": {}
      },
      "cell_type": "code",
      "source": [
        ""
      ],
      "execution_count": 0,
      "outputs": []
    },
    {
      "metadata": {
        "id": "b-lJcrAv9kbU",
        "colab_type": "code",
        "colab": {}
      },
      "cell_type": "code",
      "source": [
        ""
      ],
      "execution_count": 0,
      "outputs": []
    },
    {
      "metadata": {
        "id": "57VJII4U9kIU",
        "colab_type": "code",
        "colab": {}
      },
      "cell_type": "code",
      "source": [
        ""
      ],
      "execution_count": 0,
      "outputs": []
    },
    {
      "metadata": {
        "id": "14GSkLLY9kD1",
        "colab_type": "code",
        "colab": {}
      },
      "cell_type": "code",
      "source": [
        ""
      ],
      "execution_count": 0,
      "outputs": []
    },
    {
      "metadata": {
        "id": "nJmDrWlLxu1O",
        "colab_type": "text"
      },
      "cell_type": "markdown",
      "source": [
        "## First attempt below:"
      ]
    },
    {
      "metadata": {
        "id": "XABwFBPEiCnD",
        "colab_type": "text"
      },
      "cell_type": "markdown",
      "source": [
        "#### I am not finding information on how to pass fully transformed categorical data back into the original dataframe.  I'm leaving this in the notebook as evidence of the \"trial and error\" nature of model building for anyone who happens to come across it."
      ]
    },
    {
      "metadata": {
        "id": "XbyYaosrZ8GJ",
        "colab_type": "text"
      },
      "cell_type": "markdown",
      "source": [
        "### Get information on data"
      ]
    },
    {
      "metadata": {
        "id": "YZ1NT7G0KRQP",
        "colab_type": "code",
        "colab": {}
      },
      "cell_type": "code",
      "source": [
        "rel_data = rel_data.fillna('')"
      ],
      "execution_count": 0,
      "outputs": []
    },
    {
      "metadata": {
        "id": "djpYfcfmEAsE",
        "colab_type": "code",
        "outputId": "b748f7f6-05d9-4c97-8698-2fc4ea71f8bb",
        "colab": {
          "base_uri": "https://localhost:8080/",
          "height": 340
        }
      },
      "cell_type": "code",
      "source": [
        "rel_data.info()"
      ],
      "execution_count": 0,
      "outputs": [
        {
          "output_type": "stream",
          "text": [
            "<class 'pandas.core.frame.DataFrame'>\n",
            "RangeIndex: 6714 entries, 1450000 to 1456713\n",
            "Data columns (total 14 columns):\n",
            "ID                      6714 non-null int64\n",
            "Case Number             6714 non-null int64\n",
            "Date                    6714 non-null int64\n",
            "Block                   6714 non-null int64\n",
            "IUCR                    6714 non-null int64\n",
            "Primary Type            6714 non-null int64\n",
            "Description             6714 non-null int64\n",
            "Location Description    6714 non-null int64\n",
            "Arrest                  6714 non-null bool\n",
            "Ward                    6714 non-null float64\n",
            "Community Area          6714 non-null int64\n",
            "FBI Code                6714 non-null int64\n",
            "Year                    6714 non-null int64\n",
            "Updated On              6714 non-null int64\n",
            "dtypes: bool(1), float64(1), int64(12)\n",
            "memory usage: 688.5 KB\n"
          ],
          "name": "stdout"
        }
      ]
    },
    {
      "metadata": {
        "id": "_R23CnlUEE9r",
        "colab_type": "code",
        "outputId": "34a8320f-ee77-45f1-d590-f59677604be6",
        "colab": {
          "base_uri": "https://localhost:8080/",
          "height": 272
        }
      },
      "cell_type": "code",
      "source": [
        "rel_data.dtypes"
      ],
      "execution_count": 0,
      "outputs": [
        {
          "output_type": "execute_result",
          "data": {
            "text/plain": [
              "ID                        int64\n",
              "Case Number              object\n",
              "Date                     object\n",
              "Block                    object\n",
              "IUCR                     object\n",
              "Primary Type             object\n",
              "Description              object\n",
              "Location Description     object\n",
              "Arrest                     bool\n",
              "Ward                    float64\n",
              "Community Area          float64\n",
              "FBI Code                 object\n",
              "Year                      int64\n",
              "Updated On               object\n",
              "dtype: object"
            ]
          },
          "metadata": {
            "tags": []
          },
          "execution_count": 23
        }
      ]
    },
    {
      "metadata": {
        "id": "eTkUc0ZnTJXN",
        "colab_type": "text"
      },
      "cell_type": "markdown",
      "source": [
        "### Apply SKLearn LabelEncoder"
      ]
    },
    {
      "metadata": {
        "id": "CgYwT9gxEF2Z",
        "colab_type": "code",
        "colab": {}
      },
      "cell_type": "code",
      "source": [
        "# First transform with LabelEncoder, followed by OneHotEncoder\n",
        "transform = rel_data[['Case Number','Date','Block','IUCR','Primary Type','Description','Location Description','FBI Code','Updated On']]"
      ],
      "execution_count": 0,
      "outputs": []
    },
    {
      "metadata": {
        "id": "_dQEduadV9-O",
        "colab_type": "code",
        "colab": {}
      },
      "cell_type": "code",
      "source": [
        "#https://towardsdatascience.com/encoding-categorical-features-21a2651a065c\n",
        "# Categorical boolean mask\n",
        "categorical_feature_bool = transform.dtypes==object\n",
        "# filter categorical columns using mask and turn it into a list\n",
        "categorical_columns = transform.columns[categorical_feature_bool].tolist()"
      ],
      "execution_count": 0,
      "outputs": []
    },
    {
      "metadata": {
        "id": "3uHEQLI3V-B_",
        "colab_type": "code",
        "colab": {}
      },
      "cell_type": "code",
      "source": [
        "# Import LabelEncoder\n",
        "from sklearn.preprocessing import LabelEncoder\n",
        "# Create LabelEncoder object\n",
        "LE_data = LabelEncoder()"
      ],
      "execution_count": 0,
      "outputs": []
    },
    {
      "metadata": {
        "id": "7P7D0vHjV-G-",
        "colab_type": "code",
        "outputId": "362155a0-b58b-4504-b489-413908fe08f1",
        "colab": {
          "base_uri": "https://localhost:8080/",
          "height": 359
        }
      },
      "cell_type": "code",
      "source": [
        "# apply LE_data on categorical feature columns\n",
        "# X[categorical_columns] = X[categorical_columns].apply(lambda col: LE_data.fit_transform(col))\n",
        "# X[categorical_columns].head(10)\n",
        "transform = transform.apply(lambda col: LE_data.fit_transform(col))\n",
        "transform.head(10)"
      ],
      "execution_count": 0,
      "outputs": [
        {
          "output_type": "execute_result",
          "data": {
            "text/html": [
              "<div>\n",
              "<style scoped>\n",
              "    .dataframe tbody tr th:only-of-type {\n",
              "        vertical-align: middle;\n",
              "    }\n",
              "\n",
              "    .dataframe tbody tr th {\n",
              "        vertical-align: top;\n",
              "    }\n",
              "\n",
              "    .dataframe thead th {\n",
              "        text-align: right;\n",
              "    }\n",
              "</style>\n",
              "<table border=\"1\" class=\"dataframe\">\n",
              "  <thead>\n",
              "    <tr style=\"text-align: right;\">\n",
              "      <th></th>\n",
              "      <th>Case Number</th>\n",
              "      <th>Date</th>\n",
              "      <th>Block</th>\n",
              "      <th>IUCR</th>\n",
              "      <th>Primary Type</th>\n",
              "      <th>Description</th>\n",
              "      <th>Location Description</th>\n",
              "      <th>FBI Code</th>\n",
              "      <th>Updated On</th>\n",
              "    </tr>\n",
              "  </thead>\n",
              "  <tbody>\n",
              "    <tr>\n",
              "      <th>1450000</th>\n",
              "      <td>1237</td>\n",
              "      <td>156</td>\n",
              "      <td>3050</td>\n",
              "      <td>32</td>\n",
              "      <td>2</td>\n",
              "      <td>69</td>\n",
              "      <td>15</td>\n",
              "      <td>9</td>\n",
              "      <td>0</td>\n",
              "    </tr>\n",
              "    <tr>\n",
              "      <th>1450001</th>\n",
              "      <td>1087</td>\n",
              "      <td>153</td>\n",
              "      <td>3025</td>\n",
              "      <td>49</td>\n",
              "      <td>1</td>\n",
              "      <td>158</td>\n",
              "      <td>67</td>\n",
              "      <td>8</td>\n",
              "      <td>0</td>\n",
              "    </tr>\n",
              "    <tr>\n",
              "      <th>1450002</th>\n",
              "      <td>1132</td>\n",
              "      <td>139</td>\n",
              "      <td>3087</td>\n",
              "      <td>32</td>\n",
              "      <td>2</td>\n",
              "      <td>69</td>\n",
              "      <td>67</td>\n",
              "      <td>9</td>\n",
              "      <td>0</td>\n",
              "    </tr>\n",
              "    <tr>\n",
              "      <th>1450003</th>\n",
              "      <td>1134</td>\n",
              "      <td>152</td>\n",
              "      <td>430</td>\n",
              "      <td>64</td>\n",
              "      <td>25</td>\n",
              "      <td>85</td>\n",
              "      <td>32</td>\n",
              "      <td>6</td>\n",
              "      <td>0</td>\n",
              "    </tr>\n",
              "    <tr>\n",
              "      <th>1450004</th>\n",
              "      <td>1053</td>\n",
              "      <td>181</td>\n",
              "      <td>1467</td>\n",
              "      <td>83</td>\n",
              "      <td>8</td>\n",
              "      <td>78</td>\n",
              "      <td>0</td>\n",
              "      <td>12</td>\n",
              "      <td>0</td>\n",
              "    </tr>\n",
              "    <tr>\n",
              "      <th>1450005</th>\n",
              "      <td>1138</td>\n",
              "      <td>134</td>\n",
              "      <td>1778</td>\n",
              "      <td>97</td>\n",
              "      <td>6</td>\n",
              "      <td>173</td>\n",
              "      <td>69</td>\n",
              "      <td>15</td>\n",
              "      <td>0</td>\n",
              "    </tr>\n",
              "    <tr>\n",
              "      <th>1450006</th>\n",
              "      <td>1127</td>\n",
              "      <td>159</td>\n",
              "      <td>1978</td>\n",
              "      <td>53</td>\n",
              "      <td>3</td>\n",
              "      <td>80</td>\n",
              "      <td>69</td>\n",
              "      <td>5</td>\n",
              "      <td>0</td>\n",
              "    </tr>\n",
              "    <tr>\n",
              "      <th>1450007</th>\n",
              "      <td>1223</td>\n",
              "      <td>126</td>\n",
              "      <td>4210</td>\n",
              "      <td>57</td>\n",
              "      <td>25</td>\n",
              "      <td>126</td>\n",
              "      <td>79</td>\n",
              "      <td>6</td>\n",
              "      <td>0</td>\n",
              "    </tr>\n",
              "    <tr>\n",
              "      <th>1450008</th>\n",
              "      <td>1316</td>\n",
              "      <td>150</td>\n",
              "      <td>776</td>\n",
              "      <td>53</td>\n",
              "      <td>3</td>\n",
              "      <td>80</td>\n",
              "      <td>15</td>\n",
              "      <td>5</td>\n",
              "      <td>0</td>\n",
              "    </tr>\n",
              "    <tr>\n",
              "      <th>1450009</th>\n",
              "      <td>1318</td>\n",
              "      <td>154</td>\n",
              "      <td>2587</td>\n",
              "      <td>167</td>\n",
              "      <td>18</td>\n",
              "      <td>165</td>\n",
              "      <td>15</td>\n",
              "      <td>23</td>\n",
              "      <td>0</td>\n",
              "    </tr>\n",
              "  </tbody>\n",
              "</table>\n",
              "</div>"
            ],
            "text/plain": [
              "         Case Number  Date  Block  IUCR  Primary Type  Description  \\\n",
              "1450000         1237   156   3050    32             2           69   \n",
              "1450001         1087   153   3025    49             1          158   \n",
              "1450002         1132   139   3087    32             2           69   \n",
              "1450003         1134   152    430    64            25           85   \n",
              "1450004         1053   181   1467    83             8           78   \n",
              "1450005         1138   134   1778    97             6          173   \n",
              "1450006         1127   159   1978    53             3           80   \n",
              "1450007         1223   126   4210    57            25          126   \n",
              "1450008         1316   150    776    53             3           80   \n",
              "1450009         1318   154   2587   167            18          165   \n",
              "\n",
              "         Location Description  FBI Code  Updated On  \n",
              "1450000                    15         9           0  \n",
              "1450001                    67         8           0  \n",
              "1450002                    67         9           0  \n",
              "1450003                    32         6           0  \n",
              "1450004                     0        12           0  \n",
              "1450005                    69        15           0  \n",
              "1450006                    69         5           0  \n",
              "1450007                    79         6           0  \n",
              "1450008                    15         5           0  \n",
              "1450009                    15        23           0  "
            ]
          },
          "metadata": {
            "tags": []
          },
          "execution_count": 27
        }
      ]
    },
    {
      "metadata": {
        "id": "nHVl467JTktm",
        "colab_type": "text"
      },
      "cell_type": "markdown",
      "source": [
        "#### Insert transformed data back into main dataframe"
      ]
    },
    {
      "metadata": {
        "id": "Qs6SHL0cK8w5",
        "colab_type": "code",
        "colab": {}
      },
      "cell_type": "code",
      "source": [
        "rel_data['Case Number']= transform['Case Number']\n",
        "rel_data['Date']= transform['Date']\n",
        "rel_data['Block']= transform['Block']\n",
        "rel_data['IUCR']= transform['IUCR']\n",
        "rel_data['Primary Type']= transform['Primary Type']\n",
        "rel_data['Description']= transform['Description']\n",
        "rel_data['Location Description']= transform['Location Description']\n",
        "rel_data['FBI Code']= transform['FBI Code']\n",
        "rel_data['Updated On']= transform['Updated On']"
      ],
      "execution_count": 0,
      "outputs": []
    },
    {
      "metadata": {
        "id": "EBH0tzHND8Ny",
        "colab_type": "code",
        "outputId": "f2d2a465-2675-4c38-d2ab-8c0ec3f9893f",
        "colab": {
          "base_uri": "https://localhost:8080/",
          "height": 221
        }
      },
      "cell_type": "code",
      "source": [
        "rel_data.head()"
      ],
      "execution_count": 0,
      "outputs": [
        {
          "output_type": "execute_result",
          "data": {
            "text/html": [
              "<div>\n",
              "<style scoped>\n",
              "    .dataframe tbody tr th:only-of-type {\n",
              "        vertical-align: middle;\n",
              "    }\n",
              "\n",
              "    .dataframe tbody tr th {\n",
              "        vertical-align: top;\n",
              "    }\n",
              "\n",
              "    .dataframe thead th {\n",
              "        text-align: right;\n",
              "    }\n",
              "</style>\n",
              "<table border=\"1\" class=\"dataframe\">\n",
              "  <thead>\n",
              "    <tr style=\"text-align: right;\">\n",
              "      <th></th>\n",
              "      <th>ID</th>\n",
              "      <th>Case Number</th>\n",
              "      <th>Date</th>\n",
              "      <th>Block</th>\n",
              "      <th>IUCR</th>\n",
              "      <th>Primary Type</th>\n",
              "      <th>Description</th>\n",
              "      <th>Location Description</th>\n",
              "      <th>Arrest</th>\n",
              "      <th>Ward</th>\n",
              "      <th>Community Area</th>\n",
              "      <th>FBI Code</th>\n",
              "      <th>Year</th>\n",
              "      <th>Updated On</th>\n",
              "    </tr>\n",
              "  </thead>\n",
              "  <tbody>\n",
              "    <tr>\n",
              "      <th>1450000</th>\n",
              "      <td>10812982</td>\n",
              "      <td>1237</td>\n",
              "      <td>156</td>\n",
              "      <td>3050</td>\n",
              "      <td>32</td>\n",
              "      <td>2</td>\n",
              "      <td>69</td>\n",
              "      <td>15</td>\n",
              "      <td>False</td>\n",
              "      <td>38.0</td>\n",
              "      <td>15.0</td>\n",
              "      <td>9</td>\n",
              "      <td>2017</td>\n",
              "      <td>0</td>\n",
              "    </tr>\n",
              "    <tr>\n",
              "      <th>1450001</th>\n",
              "      <td>10812983</td>\n",
              "      <td>1087</td>\n",
              "      <td>153</td>\n",
              "      <td>3025</td>\n",
              "      <td>49</td>\n",
              "      <td>1</td>\n",
              "      <td>158</td>\n",
              "      <td>67</td>\n",
              "      <td>False</td>\n",
              "      <td>14.0</td>\n",
              "      <td>57.0</td>\n",
              "      <td>8</td>\n",
              "      <td>2017</td>\n",
              "      <td>0</td>\n",
              "    </tr>\n",
              "    <tr>\n",
              "      <th>1450002</th>\n",
              "      <td>10812986</td>\n",
              "      <td>1132</td>\n",
              "      <td>139</td>\n",
              "      <td>3087</td>\n",
              "      <td>32</td>\n",
              "      <td>2</td>\n",
              "      <td>69</td>\n",
              "      <td>67</td>\n",
              "      <td>False</td>\n",
              "      <td>23.0</td>\n",
              "      <td>57.0</td>\n",
              "      <td>9</td>\n",
              "      <td>2017</td>\n",
              "      <td>0</td>\n",
              "    </tr>\n",
              "    <tr>\n",
              "      <th>1450003</th>\n",
              "      <td>10813012</td>\n",
              "      <td>1134</td>\n",
              "      <td>152</td>\n",
              "      <td>430</td>\n",
              "      <td>64</td>\n",
              "      <td>25</td>\n",
              "      <td>85</td>\n",
              "      <td>32</td>\n",
              "      <td>False</td>\n",
              "      <td>42.0</td>\n",
              "      <td>8.0</td>\n",
              "      <td>6</td>\n",
              "      <td>2017</td>\n",
              "      <td>0</td>\n",
              "    </tr>\n",
              "    <tr>\n",
              "      <th>1450004</th>\n",
              "      <td>10813013</td>\n",
              "      <td>1053</td>\n",
              "      <td>181</td>\n",
              "      <td>1467</td>\n",
              "      <td>83</td>\n",
              "      <td>8</td>\n",
              "      <td>78</td>\n",
              "      <td>0</td>\n",
              "      <td>False</td>\n",
              "      <td>2.0</td>\n",
              "      <td>33.0</td>\n",
              "      <td>12</td>\n",
              "      <td>2017</td>\n",
              "      <td>0</td>\n",
              "    </tr>\n",
              "  </tbody>\n",
              "</table>\n",
              "</div>"
            ],
            "text/plain": [
              "               ID  Case Number  Date  Block  IUCR  Primary Type  Description  \\\n",
              "1450000  10812982         1237   156   3050    32             2           69   \n",
              "1450001  10812983         1087   153   3025    49             1          158   \n",
              "1450002  10812986         1132   139   3087    32             2           69   \n",
              "1450003  10813012         1134   152    430    64            25           85   \n",
              "1450004  10813013         1053   181   1467    83             8           78   \n",
              "\n",
              "         Location Description  Arrest  Ward  Community Area  FBI Code  Year  \\\n",
              "1450000                    15   False  38.0            15.0         9  2017   \n",
              "1450001                    67   False  14.0            57.0         8  2017   \n",
              "1450002                    67   False  23.0            57.0         9  2017   \n",
              "1450003                    32   False  42.0             8.0         6  2017   \n",
              "1450004                     0   False   2.0            33.0        12  2017   \n",
              "\n",
              "         Updated On  \n",
              "1450000           0  \n",
              "1450001           0  \n",
              "1450002           0  \n",
              "1450003           0  \n",
              "1450004           0  "
            ]
          },
          "metadata": {
            "tags": []
          },
          "execution_count": 29
        }
      ]
    },
    {
      "metadata": {
        "id": "B5RjOn8zTuzN",
        "colab_type": "text"
      },
      "cell_type": "markdown",
      "source": [
        "#### Transform the output variable"
      ]
    },
    {
      "metadata": {
        "id": "n8IgEKBKNnNz",
        "colab_type": "code",
        "colab": {}
      },
      "cell_type": "code",
      "source": [
        "\n",
        "transform_y = rel_data['Community Area']\n",
        "transform_y = transform.apply(lambda col: LE_data.fit_transform(col))"
      ],
      "execution_count": 0,
      "outputs": []
    },
    {
      "metadata": {
        "id": "UOc8azYTPHZu",
        "colab_type": "code",
        "colab": {}
      },
      "cell_type": "code",
      "source": [
        "rel_data['Community Area']=transform_y"
      ],
      "execution_count": 0,
      "outputs": []
    },
    {
      "metadata": {
        "id": "9MMDQWC8Or3V",
        "colab_type": "code",
        "outputId": "b08b8568-444c-444c-dea0-9056b4dc7401",
        "colab": {
          "base_uri": "https://localhost:8080/",
          "height": 221
        }
      },
      "cell_type": "code",
      "source": [
        "rel_data.head()"
      ],
      "execution_count": 0,
      "outputs": [
        {
          "output_type": "execute_result",
          "data": {
            "text/html": [
              "<div>\n",
              "<style scoped>\n",
              "    .dataframe tbody tr th:only-of-type {\n",
              "        vertical-align: middle;\n",
              "    }\n",
              "\n",
              "    .dataframe tbody tr th {\n",
              "        vertical-align: top;\n",
              "    }\n",
              "\n",
              "    .dataframe thead th {\n",
              "        text-align: right;\n",
              "    }\n",
              "</style>\n",
              "<table border=\"1\" class=\"dataframe\">\n",
              "  <thead>\n",
              "    <tr style=\"text-align: right;\">\n",
              "      <th></th>\n",
              "      <th>ID</th>\n",
              "      <th>Case Number</th>\n",
              "      <th>Date</th>\n",
              "      <th>Block</th>\n",
              "      <th>IUCR</th>\n",
              "      <th>Primary Type</th>\n",
              "      <th>Description</th>\n",
              "      <th>Location Description</th>\n",
              "      <th>Arrest</th>\n",
              "      <th>Ward</th>\n",
              "      <th>Community Area</th>\n",
              "      <th>FBI Code</th>\n",
              "      <th>Year</th>\n",
              "      <th>Updated On</th>\n",
              "    </tr>\n",
              "  </thead>\n",
              "  <tbody>\n",
              "    <tr>\n",
              "      <th>1450000</th>\n",
              "      <td>10812982</td>\n",
              "      <td>1237</td>\n",
              "      <td>156</td>\n",
              "      <td>3050</td>\n",
              "      <td>32</td>\n",
              "      <td>2</td>\n",
              "      <td>69</td>\n",
              "      <td>15</td>\n",
              "      <td>False</td>\n",
              "      <td>38.0</td>\n",
              "      <td>1237</td>\n",
              "      <td>9</td>\n",
              "      <td>2017</td>\n",
              "      <td>0</td>\n",
              "    </tr>\n",
              "    <tr>\n",
              "      <th>1450001</th>\n",
              "      <td>10812983</td>\n",
              "      <td>1087</td>\n",
              "      <td>153</td>\n",
              "      <td>3025</td>\n",
              "      <td>49</td>\n",
              "      <td>1</td>\n",
              "      <td>158</td>\n",
              "      <td>67</td>\n",
              "      <td>False</td>\n",
              "      <td>14.0</td>\n",
              "      <td>1087</td>\n",
              "      <td>8</td>\n",
              "      <td>2017</td>\n",
              "      <td>0</td>\n",
              "    </tr>\n",
              "    <tr>\n",
              "      <th>1450002</th>\n",
              "      <td>10812986</td>\n",
              "      <td>1132</td>\n",
              "      <td>139</td>\n",
              "      <td>3087</td>\n",
              "      <td>32</td>\n",
              "      <td>2</td>\n",
              "      <td>69</td>\n",
              "      <td>67</td>\n",
              "      <td>False</td>\n",
              "      <td>23.0</td>\n",
              "      <td>1132</td>\n",
              "      <td>9</td>\n",
              "      <td>2017</td>\n",
              "      <td>0</td>\n",
              "    </tr>\n",
              "    <tr>\n",
              "      <th>1450003</th>\n",
              "      <td>10813012</td>\n",
              "      <td>1134</td>\n",
              "      <td>152</td>\n",
              "      <td>430</td>\n",
              "      <td>64</td>\n",
              "      <td>25</td>\n",
              "      <td>85</td>\n",
              "      <td>32</td>\n",
              "      <td>False</td>\n",
              "      <td>42.0</td>\n",
              "      <td>1134</td>\n",
              "      <td>6</td>\n",
              "      <td>2017</td>\n",
              "      <td>0</td>\n",
              "    </tr>\n",
              "    <tr>\n",
              "      <th>1450004</th>\n",
              "      <td>10813013</td>\n",
              "      <td>1053</td>\n",
              "      <td>181</td>\n",
              "      <td>1467</td>\n",
              "      <td>83</td>\n",
              "      <td>8</td>\n",
              "      <td>78</td>\n",
              "      <td>0</td>\n",
              "      <td>False</td>\n",
              "      <td>2.0</td>\n",
              "      <td>1053</td>\n",
              "      <td>12</td>\n",
              "      <td>2017</td>\n",
              "      <td>0</td>\n",
              "    </tr>\n",
              "  </tbody>\n",
              "</table>\n",
              "</div>"
            ],
            "text/plain": [
              "               ID  Case Number  Date  Block  IUCR  Primary Type  Description  \\\n",
              "1450000  10812982         1237   156   3050    32             2           69   \n",
              "1450001  10812983         1087   153   3025    49             1          158   \n",
              "1450002  10812986         1132   139   3087    32             2           69   \n",
              "1450003  10813012         1134   152    430    64            25           85   \n",
              "1450004  10813013         1053   181   1467    83             8           78   \n",
              "\n",
              "         Location Description  Arrest  Ward  Community Area  FBI Code  Year  \\\n",
              "1450000                    15   False  38.0            1237         9  2017   \n",
              "1450001                    67   False  14.0            1087         8  2017   \n",
              "1450002                    67   False  23.0            1132         9  2017   \n",
              "1450003                    32   False  42.0            1134         6  2017   \n",
              "1450004                     0   False   2.0            1053        12  2017   \n",
              "\n",
              "         Updated On  \n",
              "1450000           0  \n",
              "1450001           0  \n",
              "1450002           0  \n",
              "1450003           0  \n",
              "1450004           0  "
            ]
          },
          "metadata": {
            "tags": []
          },
          "execution_count": 32
        }
      ]
    },
    {
      "metadata": {
        "id": "kfX0ikD2RvaV",
        "colab_type": "text"
      },
      "cell_type": "markdown",
      "source": [
        ""
      ]
    },
    {
      "metadata": {
        "id": "6jdFGFpbBYGR",
        "colab_type": "code",
        "outputId": "e00fe1d6-ebb3-4f92-f1bf-e8d8fbea8924",
        "colab": {
          "base_uri": "https://localhost:8080/",
          "height": 156
        }
      },
      "cell_type": "code",
      "source": [
        "OHE = preprocessing.OneHotEncoder(sparse=True)\n",
        "OHE.fit(transform)"
      ],
      "execution_count": 0,
      "outputs": [
        {
          "output_type": "stream",
          "text": [
            "/usr/local/lib/python3.6/dist-packages/sklearn/preprocessing/_encoders.py:371: FutureWarning: The handling of integer data will change in version 0.22. Currently, the categories are determined based on the range [0, max(values)], while in the future they will be determined based on the unique values.\n",
            "If you want the future behaviour and silence this warning, you can specify \"categories='auto'\".\n",
            "In case you used a LabelEncoder before this OneHotEncoder to convert the categories to integers, then you can now use the OneHotEncoder directly.\n",
            "  warnings.warn(msg, FutureWarning)\n"
          ],
          "name": "stderr"
        },
        {
          "output_type": "execute_result",
          "data": {
            "text/plain": [
              "OneHotEncoder(categorical_features=None, categories=None,\n",
              "       dtype=<class 'numpy.float64'>, handle_unknown='error',\n",
              "       n_values=None, sparse=True)"
            ]
          },
          "metadata": {
            "tags": []
          },
          "execution_count": 37
        }
      ]
    },
    {
      "metadata": {
        "id": "rfgup5XFDG5a",
        "colab_type": "code",
        "outputId": "2dedcc88-5557-4c03-d386-48036cf093e0",
        "colab": {
          "base_uri": "https://localhost:8080/",
          "height": 34
        }
      },
      "cell_type": "code",
      "source": [
        "ohe_transform = OHE.transform(transform).toarray()\n",
        "ohe_transform.shape"
      ],
      "execution_count": 0,
      "outputs": [
        {
          "output_type": "execute_result",
          "data": {
            "text/plain": [
              "(6714, 15768)"
            ]
          },
          "metadata": {
            "tags": []
          },
          "execution_count": 50
        }
      ]
    },
    {
      "metadata": {
        "id": "W5A5uzmaezgW",
        "colab_type": "code",
        "outputId": "2133b21b-8b52-40de-a686-e5faa00bf3fe",
        "colab": {
          "base_uri": "https://localhost:8080/",
          "height": 68
        }
      },
      "cell_type": "code",
      "source": [
        "transform.columns"
      ],
      "execution_count": 0,
      "outputs": [
        {
          "output_type": "execute_result",
          "data": {
            "text/plain": [
              "Index(['Case Number', 'Date', 'Block', 'IUCR', 'Primary Type', 'Description',\n",
              "       'Location Description', 'FBI Code', 'Updated On'],\n",
              "      dtype='object')"
            ]
          },
          "metadata": {
            "tags": []
          },
          "execution_count": 54
        }
      ]
    },
    {
      "metadata": {
        "id": "15GeAPCWclqR",
        "colab_type": "code",
        "colab": {}
      },
      "cell_type": "code",
      "source": [
        "# newdf=pd.DataFrame(df_array, columns=['A','B','C'])\n",
        "\n",
        "#new_ohe_transform = pd.DataFrame(ohe_transform, columns=['Case Number', 'Date', 'Block', 'IUCR', 'Primary Type', 'Description',\n",
        "       #'Location Description', 'FBI Code', 'Updated On'])\n",
        "#new_ohe.head()\n",
        "  "
      ],
      "execution_count": 0,
      "outputs": []
    },
    {
      "metadata": {
        "id": "RnFumxePcbKD",
        "colab_type": "code",
        "colab": {}
      },
      "cell_type": "code",
      "source": [
        "# Access original data again\n",
        "data = datato2017[['ID','Case Number','Date','Block','IUCR','Primary Type','Description','Location Description',\n",
        "                       'Arrest','Ward','Community Area','FBI Code','Year','Updated On']]"
      ],
      "execution_count": 0,
      "outputs": []
    },
    {
      "metadata": {
        "id": "zEu7VXxtcbOf",
        "colab_type": "code",
        "colab": {}
      },
      "cell_type": "code",
      "source": [
        ""
      ],
      "execution_count": 0,
      "outputs": []
    },
    {
      "metadata": {
        "id": "84JLCDjvb9rx",
        "colab_type": "code",
        "colab": {}
      },
      "cell_type": "code",
      "source": [
        "# Separate out the input variables and the output variables, labels\n",
        "# X is the set of classification predictor characteristics, y is the target label\n",
        "X = rel_data[['Date','Block','IUCR','Primary Type','Description','Location Description','Arrest','Ward','FBI Code','Year']]\n",
        "y = rel_data['Community Area']"
      ],
      "execution_count": 0,
      "outputs": []
    },
    {
      "metadata": {
        "id": "C39KMnZgEhdx",
        "colab_type": "code",
        "colab": {}
      },
      "cell_type": "code",
      "source": [
        "# Divide X, y into train and test data, input and output variables \n",
        "X_train, X_test, y_train, y_test = train_test_split(X, y, random_state = 0)"
      ],
      "execution_count": 0,
      "outputs": []
    },
    {
      "metadata": {
        "id": "LvgitRe0Ejoa",
        "colab_type": "code",
        "colab": {}
      },
      "cell_type": "code",
      "source": [
        "# Divide X, y into train and test data, input and output variables \n",
        "X_train, X_test, y_train, y_test = train_test_split(X, y, random_state = 0)"
      ],
      "execution_count": 0,
      "outputs": []
    }
  ]
}